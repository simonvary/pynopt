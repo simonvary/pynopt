{
 "cells": [
  {
   "cell_type": "code",
   "execution_count": 1,
   "metadata": {},
   "outputs": [],
   "source": [
    "import numpy as np\n",
    "import matplotlib.pyplot as plt\n",
    "\n",
    "from nopt.transforms.linear_transform import LinearMatrix\n",
    "from nopt.transforms.fastjlt import FastJLT\n",
    "from nopt.constraints.sparsity import *\n",
    "from nopt.constraints.rank import *\n",
    "from nopt.problems.linear_problem import *\n",
    "from nopt.problems.linear_problem_sum import *\n",
    "from nopt.solvers.niht import *\n",
    "from nopt.solvers.naht import *\n",
    "from nopt.tests.generate_lsmat1 import *\n",
    "from scipy.linalg import hadamard"
   ]
  },
  {
   "cell_type": "code",
   "execution_count": 2,
   "metadata": {},
   "outputs": [],
   "source": [
    "m = 100\n",
    "n = 100\n",
    "rho_r = 0.1\n",
    "rho_s = 0.1\n",
    "delta = 0.5\n",
    "\n",
    "p = round(delta*m*n)\n",
    "s = round(rho_s*p)\n",
    "alpha = s/(m*n)\n",
    "r = round(.5*( m+n - np.sqrt( (m+n)**2 - 4*rho_r*p ) ))"
   ]
  },
  {
   "cell_type": "code",
   "execution_count": 3,
   "metadata": {},
   "outputs": [],
   "source": [
    "l0, s0 = GenerateLSMat1((m,n), r, s, 1)\n",
    "x0 = l0 + s0\n",
    "HTr = Rank(r)\n",
    "HTs = Sparsity(s)\n",
    "\n",
    "# Amat = np.random.normal(0,1, (p,m*n)) / np.sqrt(m*n)\n",
    "# A = LinearMatrix(Amat, shape_input = (m,n))\n",
    "#Amat = hadamard(m*n)\n",
    "#Amat = Amat[1:p,:] / np.sqrt(m*n)\n",
    "#A = LinearMatrix(Amat[1:p,:], shape_input = (m,n))\n",
    "A = FastJLT(shape_input = (m,n), shape_output= (p,1))\n",
    "b = A.matvec(x0)"
   ]
  },
  {
   "cell_type": "code",
   "execution_count": 4,
   "metadata": {},
   "outputs": [],
   "source": [
    "solver = NAHT(logverbosity = 2, maxiter = 5000)\n",
    "problem = LinearProblemSum(A, b, (HTr, HTs))"
   ]
  },
  {
   "cell_type": "code",
   "execution_count": 5,
   "metadata": {},
   "outputs": [
    {
     "name": "stdout",
     "output_type": "stream",
     "text": [
      " iter\t\t   obj. value\t    grad. norm\n",
      " iter\t\t   cost val\t    grad. norm\n",
      "    1\t+1.2199107513512936e+03\t5.28767477e+00\n",
      "    2\t+2.5533365775593606e+02\t3.75971006e+00\n",
      "    3\t+1.1978648696137151e+02\t2.87593385e+00\n",
      "    4\t+7.3314338815142889e+01\t2.30970184e+00\n",
      "    5\t+4.6833262358944651e+01\t1.86102083e+00\n",
      "    6\t+3.1486766582506462e+01\t1.55896486e+00\n",
      "    7\t+2.1630433929712655e+01\t1.30150543e+00\n",
      "    8\t+1.5173034860384023e+01\t1.10336101e+00\n",
      "    9\t+1.0525828931724446e+01\t8.98196638e-01\n",
      "   10\t+7.4377236119346044e+00\t7.52222666e-01\n",
      "   11\t+5.1411514927351822e+00\t6.39423319e-01\n",
      "   12\t+3.4685164180959838e+00\t5.26970072e-01\n",
      "   13\t+2.3306753335411696e+00\t4.43594098e-01\n",
      "   14\t+1.5927351466610282e+00\t3.66194504e-01\n",
      "   15\t+1.0932882560515769e+00\t2.95138009e-01\n",
      "   16\t+7.0812668802869383e-01\t2.35742601e-01\n",
      "   17\t+4.6102593316174739e-01\t2.00395831e-01\n",
      "   18\t+2.9633049998796551e-01\t1.64939069e-01\n",
      "   19\t+1.9080081134739094e-01\t1.38908016e-01\n",
      "   20\t+1.1298897524478217e-01\t1.09147327e-01\n",
      "   21\t+6.4781840359601509e-02\t8.04625751e-02\n",
      "   22\t+3.7029030887949024e-02\t5.76848050e-02\n",
      "   23\t+2.0704022586988533e-02\t4.10679993e-02\n",
      "   24\t+1.1746445447861903e-02\t3.13030119e-02\n",
      "   25\t+6.8081218507083530e-03\t2.45631149e-02\n",
      "   26\t+4.0684086461517223e-03\t2.06872506e-02\n",
      "   27\t+2.2484977761750031e-03\t1.56488642e-02\n",
      "   28\t+1.2332131401946917e-03\t1.06784300e-02\n",
      "   29\t+6.8992245613813186e-04\t7.98353036e-03\n",
      "   30\t+3.6499725353693211e-04\t5.49615152e-03\n",
      "   31\t+1.9973669374921953e-04\t4.22631513e-03\n",
      "   32\t+1.0923454301520800e-04\t3.12287074e-03\n",
      "   33\t+5.8473490069748889e-05\t2.10090602e-03\n",
      "   34\t+3.2065800291470794e-05\t1.54313832e-03\n",
      "   35\t+1.8006140685376492e-05\t1.24884625e-03\n",
      "   36\t+1.0381199815479151e-05\t1.07373396e-03\n",
      "   37\t+5.7243720913407159e-06\t7.12200651e-04\n",
      "   38\t+3.1580875264652173e-06\t4.96851302e-04\n",
      "   39\t+1.7662582989327995e-06\t3.66336589e-04\n",
      "   40\t+9.9614327987729601e-07\t2.76375274e-04\n",
      "   41\t+5.6505188594047588e-07\t2.09286492e-04\n",
      "   42\t+3.2202308230180904e-07\t1.58685811e-04\n",
      "   43\t+1.8432660639727410e-07\t1.20498809e-04\n",
      "   44\t+1.0599631099724010e-07\t9.16309384e-05\n",
      "   45\t+6.1292938197346439e-08\t6.98567535e-05\n",
      "   46\t+3.5711252650665414e-08\t5.39306312e-05\n",
      "   47\t+2.1037482075945990e-08\t4.47836564e-05\n",
      "   48\t+1.2603504608034992e-08\t3.96794087e-05\n",
      "   49\t+6.9934215692505671e-09\t2.48005006e-05\n",
      "Terminated - target objective reached after 0.39 seconds.\n",
      "\n"
     ]
    }
   ],
   "source": [
    "x, opt_log = solver.solve(problem)"
   ]
  },
  {
   "cell_type": "code",
   "execution_count": 6,
   "metadata": {},
   "outputs": [
    {
     "data": {
      "text/plain": [
       "[<matplotlib.lines.Line2D at 0x7fed5df6ca60>]"
      ]
     },
     "execution_count": 6,
     "metadata": {},
     "output_type": "execute_result"
    },
    {
     "data": {
      "image/png": "[encoded data removed]",
      "text/plain": [
       "<Figure size 432x288 with 1 Axes>"
      ]
     },
     "metadata": {
      "needs_background": "light"
     },
     "output_type": "display_data"
    }
   ],
   "source": [
    "plt.semilogy(opt_log['iterations']['fx'])"
   ]
  },
  {
   "cell_type": "code",
   "execution_count": null,
   "metadata": {},
   "outputs": [],
   "source": []
  }
 ],
 "metadata": {
  "interpreter": {
   "hash": "d082443479dcf0bb109497657c949fcf3a4bd1d96297faded59d95be7509270b"
  },
  "kernelspec": {
   "display_name": "Python 3.8.8 64-bit ('base': conda)",
   "name": "python3"
  },
  "language_info": {
   "codemirror_mode": {
    "name": "ipython",
    "version": 3
   },
   "file_extension": ".py",
   "mimetype": "text/x-python",
   "name": "python",
   "nbconvert_exporter": "python",
   "pygments_lexer": "ipython3",
   "version": "3.8.8"
  }
 },
 "nbformat": 4,
 "nbformat_minor": 5
}
