{
 "cells": [
  {
   "cell_type": "code",
   "execution_count": 1,
   "metadata": {},
   "outputs": [],
   "source": [
    "import numpy as np\n",
    "import matplotlib.pyplot as plt\n",
    "\n",
    "from nopt.transforms.linear_transform import LinearMatrix\n",
    "from nopt.transforms.fastjlt import FastJLT\n",
    "from nopt.constraints.sparsity import *\n",
    "from nopt.constraints.rank import *\n",
    "from nopt.constraints.oblique import *\n",
    "from nopt.problems.linear_problem import *\n",
    "from nopt.problems.linear_problem_sum import *\n",
    "from nopt.problems.principal_subspace import *\n",
    "from nopt.solvers.niht import *\n",
    "from nopt.solvers.naht import *\n",
    "from nopt.solvers.oblique_spca import *\n",
    "from nopt.tests.generate_lsmat1 import *\n",
    "from nopt.tests.generate_qsmat1 import *"
   ]
  },
  {
   "cell_type": "code",
   "execution_count": 2,
   "metadata": {},
   "outputs": [],
   "source": [
    "m = 100\n",
    "n = 100\n",
    "r = 5\n",
    "rho_s = 0.2\n",
    "N = 1000; # number of samples\n",
    "\n",
    "s = round(rho_s*n)\n",
    "alpha = s/(m*n)\n",
    "#r = round(.5*( m+n - np.sqrt( (m+n)**2 - 4*rho_r*p ) ))"
   ]
  },
  {
   "cell_type": "code",
   "execution_count": 8,
   "metadata": {},
   "outputs": [
    {
     "name": "stdout",
     "output_type": "stream",
     "text": [
      "2.000000000129216\n",
      "2.265957409601614e-05\n"
     ]
    },
    {
     "data": {
      "text/plain": [
       "-4.876860956294193"
      ]
     },
     "execution_count": 8,
     "metadata": {},
     "output_type": "execute_result"
    }
   ],
   "source": [
    "q0 = GenerateQSMat1((n,r), s)\n",
    "q0_noise = q0 + np.random.normal(0, 1, (n, r))\n",
    "\n",
    "theta = 1; # Signal strength\n",
    "x = np.random.multivariate_normal(np.zeros((n,)), np.eye(n) + theta* q0@q0.T, N).T\n",
    "#covariance matrix = x @ x.T\n",
    "A = LinearMatrix(x.T / np.sqrt(N))\n",
    "problem = PrincipalSubspace(A)\n",
    "problem.objective(q0)"
   ]
  },
  {
   "cell_type": "code",
   "execution_count": 9,
   "metadata": {},
   "outputs": [],
   "source": [
    "HTo = Oblique()"
   ]
  },
  {
   "cell_type": "code",
   "execution_count": 10,
   "metadata": {},
   "outputs": [],
   "source": [
    "tmp = HTo.project(q0_noise)"
   ]
  },
  {
   "cell_type": "code",
   "execution_count": 18,
   "metadata": {},
   "outputs": [
    {
     "data": {
      "text/plain": [
       "-2.619205478081488"
      ]
     },
     "execution_count": 18,
     "metadata": {},
     "output_type": "execute_result"
    }
   ],
   "source": [
    "problem.objective(HTo.project(q0_noise))"
   ]
  },
  {
   "cell_type": "code",
   "execution_count": 19,
   "metadata": {},
   "outputs": [],
   "source": [
    "solver = ObliqueSPCA(logverbosity = 2, maxiter = 10)"
   ]
  },
  {
   "cell_type": "code",
   "execution_count": 5,
   "metadata": {},
   "outputs": [
    {
     "name": "stdout",
     "output_type": "stream",
     "text": [
      " iter\t\t   obj. value\t    grad. norm\n",
      " iter\t\t   cost val\t    grad. norm\n",
      "    1\t+1.3923637163520984e+03\t6.21086995e+00\n",
      "    2\t+3.0362783806295306e+02\t4.16525064e+00\n",
      "    3\t+1.4071022040940096e+02\t3.13976919e+00\n",
      "    4\t+8.4327202068142469e+01\t2.49184545e+00\n",
      "    5\t+5.3698036628968552e+01\t2.04480477e+00\n",
      "    6\t+3.5462137227814431e+01\t1.65577284e+00\n",
      "    7\t+2.4270205670906414e+01\t1.35153527e+00\n",
      "    8\t+1.6209934932055550e+01\t1.12161639e+00\n",
      "    9\t+1.0961972718719624e+01\t9.49152368e-01\n",
      "   10\t+7.3765072602059139e+00\t7.89110379e-01\n",
      "   11\t+4.9718682341147948e+00\t6.26171841e-01\n",
      "   12\t+3.2393184895515956e+00\t5.08049345e-01\n",
      "   13\t+2.0827265532976598e+00\t4.17921601e-01\n",
      "   14\t+1.3520795124203435e+00\t3.25339821e-01\n",
      "   15\t+8.6628783969082679e-01\t2.53928481e-01\n",
      "   16\t+5.4712675451674286e-01\t2.07282199e-01\n",
      "   17\t+3.4173004835524445e-01\t1.65002052e-01\n",
      "   18\t+2.1559155899523630e-01\t1.37262973e-01\n",
      "   19\t+1.2804887688584790e-01\t1.04067246e-01\n",
      "   20\t+7.5061608435763941e-02\t7.87628768e-02\n",
      "   21\t+4.4661457460465966e-02\t6.46022339e-02\n",
      "   22\t+2.5737197081191897e-02\t4.88642396e-02\n",
      "   23\t+1.4680712508354475e-02\t3.82812055e-02\n",
      "   24\t+8.2641470137752495e-03\t2.87183704e-02\n",
      "   25\t+4.6341478721678335e-03\t2.26344749e-02\n",
      "   26\t+2.4471924184591870e-03\t1.66308784e-02\n",
      "   27\t+1.2874655560523350e-03\t1.17569238e-02\n",
      "   28\t+6.7377540095002561e-04\t8.17891783e-03\n",
      "   29\t+3.7114615400144011e-04\t6.83914827e-03\n",
      "   30\t+2.0254151658495386e-04\t5.12564945e-03\n",
      "   31\t+1.0539441185384169e-04\t3.28887274e-03\n",
      "   32\t+5.5357287125770315e-05\t2.21157199e-03\n",
      "   33\t+2.9924276230592328e-05\t1.56637824e-03\n",
      "   34\t+1.6526613700259835e-05\t1.18006715e-03\n",
      "   35\t+9.3929898649771840e-06\t1.01681415e-03\n",
      "   36\t+5.5208774588343488e-06\t9.39154448e-04\n",
      "   37\t+2.9319454278213666e-06\t5.62635099e-04\n",
      "   38\t+1.5578660908649455e-06\t3.58595681e-04\n",
      "   39\t+8.4190082008710532e-07\t2.54071955e-04\n",
      "   40\t+4.6189004361499967e-07\t1.88338394e-04\n",
      "   41\t+2.5473774535028088e-07\t1.40243179e-04\n",
      "   42\t+1.4139531150668221e-07\t1.04642704e-04\n",
      "   43\t+7.8720139976661315e-08\t7.82272152e-05\n",
      "   44\t+4.3985026388494634e-08\t5.85465247e-05\n",
      "   45\t+2.4631491807705973e-08\t4.38660617e-05\n",
      "   46\t+1.3826653628644379e-08\t3.28929629e-05\n",
      "   47\t+7.7754036520273657e-09\t2.46838123e-05\n",
      "Terminated - target objective reached after 0.27 seconds.\n",
      "\n"
     ]
    }
   ],
   "source": [
    "x, opt_log = solver.solve(problem)"
   ]
  },
  {
   "cell_type": "code",
   "execution_count": 6,
   "metadata": {},
   "outputs": [
    {
     "data": {
      "text/plain": [
       "[<matplotlib.lines.Line2D at 0x7fed5df6ca60>]"
      ]
     },
     "execution_count": 6,
     "metadata": {},
     "output_type": "execute_result"
    },
    {
     "data": {
      "image/png": "[encoded data removed]",
      "text/plain": [
       "<Figure size 432x288 with 1 Axes>"
      ]
     },
     "metadata": {
      "needs_background": "light"
     },
     "output_type": "display_data"
    }
   ],
   "source": [
    "plt.semilogy(opt_log['iterations']['fx'])"
   ]
  },
  {
   "cell_type": "code",
   "execution_count": null,
   "metadata": {},
   "outputs": [],
   "source": []
  }
 ],
 "metadata": {
  "interpreter": {
   "hash": "437509238e05f23707272bb58d1490b7acc9984b8122062e2294ddf3bd1e54a4"
  },
  "kernelspec": {
   "display_name": "Python 3.9.7 64-bit ('base': conda)",
   "name": "python3"
  },
  "language_info": {
   "codemirror_mode": {
    "name": "ipython",
    "version": 3
   },
   "file_extension": ".py",
   "mimetype": "text/x-python",
   "name": "python",
   "nbconvert_exporter": "python",
   "pygments_lexer": "ipython3",
   "version": "3.9.7"
  }
 },
 "nbformat": 4,
 "nbformat_minor": 5
}
