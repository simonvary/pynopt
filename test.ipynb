{
 "cells": [
  {
   "cell_type": "code",
   "execution_count": 1,
   "metadata": {},
   "outputs": [],
   "source": [
    "import numpy as np\n",
    "import matplotlib.pyplot as plt\n",
    "\n",
    "from nopt.transforms.linear_transform import LinearMatrix\n",
    "from nopt.transforms.fastjlt import FastJLT\n",
    "from nopt.constraints.sparsity import *\n",
    "from nopt.constraints.rank import *\n",
    "from nopt.problems.linear_problem import *\n",
    "from nopt.problems.linear_problem_sum import *\n",
    "from nopt.solvers.niht import *\n",
    "from nopt.solvers.naht import *\n",
    "from nopt.tests.generate_lsmat1 import *"
   ]
  },
  {
   "cell_type": "code",
   "execution_count": 6,
   "metadata": {},
   "outputs": [],
   "source": [
    "m = 500\n",
    "n = 500\n",
    "rho_r = 0.2\n",
    "rho_s = 0.1\n",
    "delta = 0.5\n",
    "\n",
    "p = round(delta*m*n)\n",
    "s = round(rho_s*p)\n",
    "alpha = s/(m*n)\n",
    "r = round(.5*( m+n - np.sqrt( (m+n)**2 - 4*rho_r*p ) ))"
   ]
  },
  {
   "cell_type": "code",
   "execution_count": 7,
   "metadata": {},
   "outputs": [],
   "source": [
    "l0, s0 = GenerateLSMat1((m,n), r, s, 1)\n",
    "x0 = l0 + s0\n",
    "HTr = Rank(r)\n",
    "HTs = Sparsity(s)\n",
    "\n",
    "# Amat = np.random.normal(0,1, (p,m*n)) / np.sqrt(m*n)\n",
    "# A = LinearMatrix(Amat, shape_input = (m,n))\n",
    "A = FastJLT(shape_input = (m,n), shape_output= (p,1))\n",
    "b = A.matvec(x0)"
   ]
  },
  {
   "cell_type": "code",
   "execution_count": null,
   "metadata": {},
   "outputs": [],
   "source": [
    "solver = NAHT(logverbosity = 2, maxiter = 5000)\n",
    "problem = LinearProblemSum(A, b, (HTr, HTs))"
   ]
  },
  {
   "cell_type": "code",
   "execution_count": null,
   "metadata": {},
   "outputs": [
    {
     "name": "stdout",
     "output_type": "stream",
     "text": [
      " iter\t\t   obj. value\t    grad. norm\n",
      " iter\t\t   cost val\t    grad. norm\n",
      "    1\t+1.9700861825403249e+03\t7.31269142e+00\n",
      "    2\t+5.1762159340500182e+02\t5.20086084e+00\n",
      "    3\t+2.4449548813399494e+02\t4.12518304e+00\n",
      "    4\t+1.5431029988356070e+02\t3.38348351e+00\n",
      "    5\t+1.0133446682492551e+02\t2.86167696e+00\n",
      "    6\t+7.3785928488011976e+01\t2.41315157e+00\n",
      "    7\t+5.4487949253586002e+01\t2.08743379e+00\n",
      "    8\t+4.1259466590181610e+01\t1.78370798e+00\n",
      "    9\t+3.1012408861255828e+01\t1.56981204e+00\n",
      "   10\t+2.3602230409329398e+01\t1.36650840e+00\n",
      "   11\t+1.8191153267101360e+01\t1.22042507e+00\n",
      "   12\t+1.3846943544460260e+01\t1.05126589e+00\n",
      "   13\t+1.0435528937247810e+01\t9.22794893e-01\n",
      "   14\t+7.8358679207531878e+00\t8.00332600e-01\n",
      "   15\t+5.7329464808776480e+00\t6.79960044e-01\n",
      "   16\t+4.1885163736537994e+00\t5.82092211e-01\n",
      "   17\t+3.0224996675898330e+00\t4.98509264e-01\n",
      "   18\t+2.1566347177896228e+00\t4.15906960e-01\n",
      "   19\t+1.5369688924877636e+00\t3.47095782e-01\n",
      "   20\t+1.0923245549844562e+00\t3.03074383e-01\n",
      "   21\t+7.7732391858777372e-01\t2.66292171e-01\n",
      "   22\t+5.4286213389762772e-01\t2.14190347e-01\n",
      "   23\t+3.7774033256106415e-01\t1.77492561e-01\n",
      "   24\t+2.4757810374266456e-01\t1.41105498e-01\n",
      "   25\t+1.5561230194579007e-01\t1.11426818e-01\n",
      "   26\t+9.7426851179039722e-02\t8.89509836e-02\n",
      "   27\t+6.1286362230321904e-02\t7.12612747e-02\n",
      "   28\t+3.7499563444326735e-02\t5.54861852e-02\n",
      "   29\t+2.3153426954075945e-02\t4.29514086e-02\n",
      "   30\t+1.4439460136387760e-02\t3.41547765e-02\n",
      "   31\t+8.7841458077288735e-03\t2.61633300e-02\n",
      "   32\t+5.2730188792831688e-03\t1.97612415e-02\n",
      "   33\t+3.1937767072511510e-03\t1.61884109e-02\n",
      "   34\t+1.9402934157144911e-03\t1.21641133e-02\n",
      "   35\t+1.1937025476506861e-03\t9.73103015e-03\n",
      "   36\t+7.3872746027299388e-04\t7.65631813e-03\n",
      "   37\t+4.7553484381688090e-04\t6.34972464e-03\n",
      "   38\t+3.0973819821320046e-04\t5.48978119e-03\n",
      "   39\t+1.9839664517128292e-04\t4.46058688e-03\n",
      "   40\t+1.2462501973353968e-04\t3.80949027e-03\n",
      "   41\t+7.6365122671544274e-05\t2.91770859e-03\n",
      "   42\t+4.5551868912896046e-05\t2.05543383e-03\n",
      "   43\t+2.7935186626364722e-05\t1.65282363e-03\n",
      "   44\t+1.6921744107499538e-05\t1.21310010e-03\n",
      "   45\t+1.0323263240268197e-05\t9.26379116e-04\n",
      "   46\t+6.3973555827639263e-06\t7.69975184e-04\n",
      "   47\t+4.0760862641246637e-06\t6.89412902e-04\n",
      "   48\t+2.4539010406290472e-06\t4.67263460e-04\n",
      "   49\t+1.4828604579038348e-06\t3.49107737e-04\n",
      "   50\t+9.0762225254938286e-07\t2.73254927e-04\n",
      "   51\t+5.5973932466615239e-07\t2.14234050e-04\n",
      "   52\t+3.4671857413665901e-07\t1.68790301e-04\n",
      "   53\t+2.1572093046841122e-07\t1.32934817e-04\n",
      "   54\t+1.3449341484013712e-07\t1.05038114e-04\n",
      "   55\t+8.4106177031501584e-08\t8.29352787e-05\n",
      "   56\t+5.2663812618532913e-08\t6.56539901e-05\n",
      "   57\t+3.3051609951777599e-08\t5.19247382e-05\n",
      "   58\t+2.0761977570013343e-08\t4.11623717e-05\n",
      "   59\t+1.3066019902437398e-08\t3.25946261e-05\n",
      "   60\t+8.2283255713471639e-09\t2.58677956e-05\n",
      "Terminated - target objective reached after 0.48 seconds.\n",
      "\n"
     ]
    }
   ],
   "source": [
    "x, opt_log = solver.solve(problem)"
   ]
  },
  {
   "cell_type": "code",
   "execution_count": null,
   "metadata": {},
   "outputs": [],
   "source": [
    "plt.semilogy(opt_log['iterations']['fx'])"
   ]
  },
  {
   "cell_type": "code",
   "execution_count": null,
   "metadata": {},
   "outputs": [],
   "source": [
    "n = 50\n",
    "p = 25\n",
    "import scipy.sparse as sp\n",
    " "
   ]
  },
  {
   "cell_type": "code",
   "execution_count": null,
   "metadata": {},
   "outputs": [],
   "source": [
    "R_ind = np.random.choice(n, size=p, replace=False).sort()\n",
    "D = sp.diags(np.random.choice((1, -1), size = n))\n",
    "x = np.random.normal(0,1, (n,1))"
   ]
  },
  {
   "cell_type": "code",
   "execution_count": null,
   "metadata": {},
   "outputs": [],
   "source": [
    "Af = FastJLT(shape_input = (50,1), shape_output= (25,1))"
   ]
  },
  {
   "cell_type": "code",
   "execution_count": null,
   "metadata": {},
   "outputs": [],
   "source": [
    "b = Af.matvec(x)"
   ]
  },
  {
   "cell_type": "code",
   "execution_count": null,
   "metadata": {},
   "outputs": [],
   "source": [
    "x2 = Af.rmatvec(b)"
   ]
  },
  {
   "cell_type": "code",
   "execution_count": null,
   "metadata": {},
   "outputs": [],
   "source": []
  }
 ],
 "metadata": {
  "interpreter": {
   "hash": "d082443479dcf0bb109497657c949fcf3a4bd1d96297faded59d95be7509270b"
  },
  "kernelspec": {
   "display_name": "Python 3.8.8 64-bit ('base': conda)",
   "name": "python3"
  },
  "language_info": {
   "codemirror_mode": {
    "name": "ipython",
    "version": 3
   },
   "file_extension": ".py",
   "mimetype": "text/x-python",
   "name": "python",
   "nbconvert_exporter": "python",
   "pygments_lexer": "ipython3",
   "version": "3.8.8"
  }
 },
 "nbformat": 4,
 "nbformat_minor": 5
}
