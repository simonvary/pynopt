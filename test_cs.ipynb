{
 "cells": [
  {
   "cell_type": "markdown",
   "metadata": {},
   "source": [
    "# Simple test of compressed sensing methods"
   ]
  },
  {
   "cell_type": "code",
   "execution_count": 1,
   "metadata": {},
   "outputs": [],
   "source": [
    "import numpy as np\n",
    "import matplotlib.pyplot as plt\n",
    "\n",
    "from nopt.transforms import *\n",
    "from nopt.constraints import *\n",
    "from nopt.problems import *\n",
    "from nopt.solvers import *\n",
    "from nopt.tests import *\n",
    "\n",
    "from scipy.linalg import hadamard"
   ]
  },
  {
   "cell_type": "code",
   "execution_count": 2,
   "metadata": {},
   "outputs": [],
   "source": [
    "m = 500\n",
    "n = 1000\n",
    "Amat = np.random.normal(0,1, (m,n))\n",
    "A = LinearMatrix(Amat)\n",
    "k = 100\n",
    "r = 20\n",
    "HTs = Sparsity(k)\n",
    "HTr = FixedRank(r)"
   ]
  },
  {
   "cell_type": "code",
   "execution_count": 3,
   "metadata": {},
   "outputs": [],
   "source": [
    "x_true = np.random.normal(0,1, (n, 1)) / np.sqrt(n)\n",
    "sub, x_true = HTs.project(x_true)\n",
    "b = A.matvec(x_true)\n",
    "problem = LinearProblem(A, b, HTs, x_true = x_true)"
   ]
  },
  {
   "cell_type": "code",
   "execution_count": 4,
   "metadata": {},
   "outputs": [
    {
     "name": "stdout",
     "output_type": "stream",
     "text": [
      " iter\t\t   obj. value\t    grad. norm\t     xdist\n",
      "    1\t+8.5614398598680064e+07\t5.62391866e+05\n",
      "    2\t+1.6598043641297152e+07\t2.58319132e+05\n",
      "    3\t+1.4132798527390631e+07\t2.45571980e+05\n",
      "    4\t+5.5452980530874664e+06\t1.53526417e+05\n",
      "    5\t+4.5990844145155679e+06\t1.42729011e+05\n",
      "    6\t+2.1673938637595773e+06\t9.74620204e+04\n",
      "    7\t+1.7110587370117642e+06\t8.77611431e+04\n",
      "    8\t+9.5479035522491159e+05\t6.54756948e+04\n",
      "    9\t+7.3803647469982156e+05\t5.80696158e+04\n",
      "   10\t+4.4464972036811966e+05\t4.49899474e+04\n",
      "   11\t+3.3647399034264183e+05\t3.93554849e+04\n",
      "   12\t+2.1142543421935363e+05\t3.11617399e+04\n",
      "   13\t+1.5427585837737753e+05\t2.66533043e+04\n",
      "   14\t+9.9344549969876243e+04\t2.13799964e+04\n",
      "   15\t+7.1168137949292286e+04\t1.81295910e+04\n",
      "   16\t+4.7661105766586697e+04\t1.48390172e+04\n",
      "   17\t+3.3249380178846113e+04\t1.24037174e+04\n",
      "   18\t+2.2346173784466853e+04\t1.01689771e+04\n",
      "   19\t+1.5347978772518531e+04\t8.43871799e+03\n",
      "   20\t+1.0362697320386591e+04\t6.92839180e+03\n",
      "   21\t+7.1555979387105763e+03\t5.75802160e+03\n",
      "   22\t+4.9847022050494588e+03\t4.81440902e+03\n",
      "   23\t+3.3872807214211430e+03\t3.96687314e+03\n",
      "   24\t+2.4514726661439981e+03\t3.37299520e+03\n",
      "   25\t+1.6215817965540768e+03\t2.74189950e+03\n",
      "   26\t+1.2642352849625843e+03\t2.41875416e+03\n",
      "   27\t+8.1425073975897249e+02\t1.93907381e+03\n",
      "   28\t+6.7541074094219266e+02\t1.75546991e+03\n",
      "   29\t+4.1993075697149754e+02\t1.38078606e+03\n",
      "   30\t+3.1472717080329983e+02\t1.17726449e+03\n",
      "   31\t+1.7326654048377432e+02\t8.63983340e+02\n",
      "   32\t+1.2600314607537810e+02\t7.20648957e+02\n",
      "   33\t+6.9066129543306872e+01\t5.04499501e+02\n",
      "   34\t+4.8628644564702739e+01\t4.13596258e+02\n",
      "   35\t+3.0215791706166492e+01\t2.90742523e+02\n",
      "   36\t+2.1705522175757729e+01\t2.33478822e+02\n",
      "   37\t+1.5876015447080920e+01\t1.86363288e+02\n",
      "   38\t+1.3502770588188277e+01\t1.73103366e+02\n",
      "   39\t+1.1515044706568927e+01\t1.54725700e+02\n",
      "   40\t+1.0314060690670393e+01\t1.48117474e+02\n",
      "   41\t+9.2019445605971324e+00\t1.40744550e+02\n",
      "   42\t+8.1977120062031208e+00\t1.33908616e+02\n",
      "   43\t+7.1315082411461681e+00\t1.24359083e+02\n",
      "   44\t+6.0839659012729435e+00\t1.14849217e+02\n",
      "   45\t+5.0229341744858180e+00\t1.05617333e+02\n",
      "   46\t+3.2013006010076128e+00\t8.80955012e+01\n",
      "   47\t+1.6705564774626080e+00\t6.57960225e+01\n",
      "   48\t+6.7102651022652304e-01\t3.99337005e+01\n",
      "   49\t+3.0179275950833395e-01\t2.72505002e+01\n",
      "   50\t+1.4131362554546892e-01\t1.81794810e+01\n",
      "   51\t+6.7905217374652702e-02\t1.27890479e+01\n",
      "   52\t+3.3168878667712974e-02\t8.79554147e+00\n",
      "   53\t+1.6407145836194372e-02\t6.24129823e+00\n",
      "   54\t+8.1855925821957450e-03\t4.36776856e+00\n",
      "   55\t+4.1113726314559226e-03\t3.10883662e+00\n",
      "   56\t+2.0749559734667281e-03\t2.19871269e+00\n",
      "   57\t+1.0512299454067404e-03\t1.56669905e+00\n",
      "   58\t+5.3414716019846680e-04\t1.11549878e+00\n",
      "   59\t+2.7205992025067526e-04\t7.95174994e-01\n",
      "   60\t+1.3884032298594207e-04\t5.68729905e-01\n",
      "   61\t+7.0969468689701136e-05\t4.05473978e-01\n",
      "   62\t+3.6326988613353356e-05\t2.90935679e-01\n",
      "   63\t+1.8616377993001770e-05\t2.07428740e-01\n",
      "   64\t+9.5501210722099122e-06\t1.49187728e-01\n",
      "   65\t+4.9034850060363764e-06\t1.06364244e-01\n",
      "   66\t+2.5196794232330423e-06\t7.66388766e-02\n",
      "   67\t+1.2956347724341525e-06\t5.46371921e-02\n",
      "   68\t+6.6664027727487319e-07\t3.94242205e-02\n",
      "   69\t+3.4319168892764981e-07\t2.81041795e-02\n",
      "   70\t+1.7676683620530583e-07\t2.03023291e-02\n",
      "   71\t+9.1087098947641243e-08\t1.44716456e-02\n",
      "   72\t+4.6956173859882774e-08\t1.04641457e-02\n",
      "   73\t+2.4215185391477947e-08\t7.45827705e-03\n",
      "   74\t+1.2492041825585909e-08\t5.39719704e-03\n",
      "   75\t+6.4463481235611781e-09\t3.84650272e-03\n",
      "Terminated - target objective reached after 0.10 seconds.\n",
      "\n"
     ]
    }
   ],
   "source": [
    "solver = NIHT(logverbosity = 2)\n",
    "x, opt_log = solver.solve(problem)"
   ]
  },
  {
   "cell_type": "code",
   "execution_count": 5,
   "metadata": {},
   "outputs": [
    {
     "data": {
      "text/plain": [
       "9.015342927933674e-06"
      ]
     },
     "execution_count": 5,
     "metadata": {},
     "output_type": "execute_result"
    }
   ],
   "source": [
    "np.linalg.norm(x - x_true, 2)/ np.linalg.norm(x_true, 2)"
   ]
  },
  {
   "cell_type": "code",
   "execution_count": 6,
   "metadata": {},
   "outputs": [
    {
     "data": {
      "text/plain": [
       "[<matplotlib.lines.Line2D at 0x11cbd5d00>]"
      ]
     },
     "execution_count": 6,
     "metadata": {},
     "output_type": "execute_result"
    },
    {
     "data": {
      "image/png": "[encoded data removed]",
      "text/plain": [
       "<Figure size 432x288 with 1 Axes>"
      ]
     },
     "metadata": {
      "needs_background": "light"
     },
     "output_type": "display_data"
    }
   ],
   "source": [
    "plt.semilogy(opt_log['iterations']['fx'] / np.linalg.norm(b))"
   ]
  },
  {
   "cell_type": "code",
   "execution_count": null,
   "metadata": {},
   "outputs": [],
   "source": []
  }
 ],
 "metadata": {
  "interpreter": {
   "hash": "437509238e05f23707272bb58d1490b7acc9984b8122062e2294ddf3bd1e54a4"
  },
  "kernelspec": {
   "display_name": "Python 3.9.7 64-bit ('base': conda)",
   "language": "python",
   "name": "python3"
  },
  "language_info": {
   "codemirror_mode": {
    "name": "ipython",
    "version": 3
   },
   "file_extension": ".py",
   "mimetype": "text/x-python",
   "name": "python",
   "nbconvert_exporter": "python",
   "pygments_lexer": "ipython3",
   "version": "3.9.7"
  },
  "orig_nbformat": 4
 },
 "nbformat": 4,
 "nbformat_minor": 2
}
