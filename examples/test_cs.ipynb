{
 "cells": [
  {
   "cell_type": "markdown",
   "metadata": {},
   "source": [
    "# Simple test of compressed sensing methods"
   ]
  },
  {
   "cell_type": "code",
   "execution_count": 1,
   "metadata": {},
   "outputs": [],
   "source": [
    "import sys\n",
    "sys.path.append(\"../\")\n",
    "\n",
    "import numpy as np\n",
    "import matplotlib.pyplot as plt\n",
    "\n",
    "from nopt.transforms import *\n",
    "from nopt.constraints import *\n",
    "from nopt.problems import *\n",
    "from nopt.solvers import *\n",
    "from nopt.tests import *\n",
    "\n",
    "import scipy"
   ]
  },
  {
   "cell_type": "code",
   "execution_count": 2,
   "metadata": {},
   "outputs": [],
   "source": [
    "m = 500\n",
    "n = 1000\n",
    "Amat = np.random.normal(0,1, (m,n))\n",
    "A = scipy.sparse.linalg.aslinearoperator(Amat)\n",
    "k = 100\n",
    "r = 20\n",
    "HTs = Sparsity(k)"
   ]
  },
  {
   "cell_type": "code",
   "execution_count": 3,
   "metadata": {},
   "outputs": [],
   "source": [
    "x_true = np.random.normal(0,1, (n, 1)) / np.sqrt(n)\n",
    "sub, x_true = HTs.project(x_true)\n",
    "b = A.matvec(x_true)\n",
    "problem = LinearProblem(A, b, HTs, x_true = x_true)"
   ]
  },
  {
   "cell_type": "code",
   "execution_count": 4,
   "metadata": {},
   "outputs": [
    {
     "name": "stdout",
     "output_type": "stream",
     "text": [
      "Terminated - target objective reached after 0.03 seconds.\n",
      "\n"
     ]
    }
   ],
   "source": [
    "solver = NIHT(logverbosity = 2, verbosity=1)\n",
    "x, opt_log = solver.solve(problem)"
   ]
  },
  {
   "cell_type": "code",
   "execution_count": 5,
   "metadata": {},
   "outputs": [
    {
     "data": {
      "text/plain": [
       "1.1815935961598211e-05"
      ]
     },
     "execution_count": 5,
     "metadata": {},
     "output_type": "execute_result"
    }
   ],
   "source": [
    "np.linalg.norm(x - x_true, 2)/ np.linalg.norm(x_true, 2)"
   ]
  },
  {
   "cell_type": "code",
   "execution_count": 6,
   "metadata": {},
   "outputs": [
    {
     "data": {
      "text/plain": [
       "[<matplotlib.lines.Line2D at 0x7f266dd801f0>]"
      ]
     },
     "execution_count": 6,
     "metadata": {},
     "output_type": "execute_result"
    },
    {
     "data": {
      "image/png": "[encoded data removed]",
      "text/plain": [
       "<Figure size 432x288 with 1 Axes>"
      ]
     },
     "metadata": {
      "needs_background": "light"
     },
     "output_type": "display_data"
    }
   ],
   "source": [
    "plt.semilogy(opt_log['iterations']['fx'] / np.linalg.norm(b))"
   ]
  },
  {
   "cell_type": "code",
   "execution_count": null,
   "metadata": {},
   "outputs": [],
   "source": []
  }
 ],
 "metadata": {
  "kernelspec": {
   "display_name": "Python 3.8.13 ('pynopt')",
   "language": "python",
   "name": "python3"
  },
  "language_info": {
   "codemirror_mode": {
    "name": "ipython",
    "version": 3
   },
   "file_extension": ".py",
   "mimetype": "text/x-python",
   "name": "python",
   "nbconvert_exporter": "python",
   "pygments_lexer": "ipython3",
   "version": "3.8.13"
  },
  "orig_nbformat": 4,
  "vscode": {
   "interpreter": {
    "hash": "1e05a12598df55d3aad50ba1499fae3c0901cb0a2d2a7fd07b3f224c1b5b1f32"
   }
  }
 },
 "nbformat": 4,
 "nbformat_minor": 2
}
