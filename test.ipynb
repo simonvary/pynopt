{
 "cells": [
  {
   "cell_type": "code",
   "execution_count": 7,
   "id": "ee42dee2",
   "metadata": {},
   "outputs": [],
   "source": [
    "import numpy as np\n",
    "import matplotlib.pyplot as plt\n",
    "\n",
    "from nopt.transforms import *\n",
    "from nopt.constraints import *\n",
    "from nopt.problems import *\n",
    "from nopt.solvers import *\n",
    "from nopt.tests import *\n",
    "\n",
    "from scipy.linalg import hadamard"
   ]
  },
  {
   "cell_type": "code",
   "execution_count": 8,
   "id": "0b7f6e0d",
   "metadata": {},
   "outputs": [],
   "source": [
    "m = 100\n",
    "n = 100\n",
    "rho_r = 0.1\n",
    "rho_s = 0.1\n",
    "delta = 0.5\n",
    "\n",
    "p = round(delta*m*n)\n",
    "s = round(rho_s*p)\n",
    "alpha = s/(m*n)\n",
    "r = round(.5*( m+n - np.sqrt( (m+n)**2 - 4*rho_r*p ) ))"
   ]
  },
  {
   "cell_type": "code",
   "execution_count": 9,
   "id": "a5effd29",
   "metadata": {},
   "outputs": [],
   "source": [
    "l0, s0 = GenerateLSMat1((m,n), r, s, 1)\n",
    "x0 = l0 + s0\n",
    "HTr = FixedRank(r)\n",
    "HTs = Sparsity(s)\n",
    "\n",
    "# Amat = np.random.normal(0,1, (p,m*n)) / np.sqrt(m*n)\n",
    "# A = LinearMatrix(Amat, shape_input = (m,n))\n",
    "#Amat = hadamard(m*n)\n",
    "#Amat = Amat[1:p,:] / np.sqrt(m*n)\n",
    "#A = LinearMatrix(Amat[1:p,:], shape_input = (m,n))\n",
    "A = FastJLT(shape_input = (m,n), shape_output= (p,1))\n",
    "b = A.matvec(x0)"
   ]
  },
  {
   "cell_type": "code",
   "execution_count": 10,
   "id": "ba61c9d1",
   "metadata": {},
   "outputs": [],
   "source": [
    "solver = NAHT(logverbosity = 2, maxiter = 5000)\n",
    "problem = LinearProblemSum(A, b, (HTr, HTs))"
   ]
  },
  {
   "cell_type": "code",
   "execution_count": 11,
   "id": "4e28d5a1",
   "metadata": {},
   "outputs": [
    {
     "name": "stdout",
     "output_type": "stream",
     "text": [
      " iter\t\t   obj. value\t    grad. norm\n",
      " iter\t\t   cost val\t    grad. norm\n",
      "    1\t+2.2871035779547381e+02\t5.14843667e+00\n",
      "    2\t+1.0501442187359291e+02\t3.52323995e+00\n",
      "    3\t+6.4057865197587745e+01\t2.72578520e+00\n",
      "    4\t+4.1119597641941688e+01\t2.19746397e+00\n",
      "    5\t+2.8580344289764895e+01\t1.76366519e+00\n",
      "    6\t+1.9707777138023580e+01\t1.46395335e+00\n",
      "    7\t+1.3441940220831514e+01\t1.23148282e+00\n",
      "    8\t+9.1195141576058223e+00\t1.01032267e+00\n",
      "    9\t+6.2053794045328541e+00\t8.37401073e-01\n",
      "   10\t+4.1756425553945160e+00\t6.89888465e-01\n",
      "   11\t+2.7868377563184468e+00\t5.56024953e-01\n",
      "   12\t+1.8308071646356519e+00\t4.63865056e-01\n",
      "   13\t+1.1959034105277999e+00\t3.76895259e-01\n",
      "   14\t+7.7364906214352713e-01\t3.10584086e-01\n",
      "   15\t+4.9008302375765289e-01\t2.52776423e-01\n",
      "   16\t+3.2079211528691198e-01\t1.99225537e-01\n",
      "   17\t+2.0083705194301807e-01\t1.62971536e-01\n",
      "   18\t+1.1954330299315791e-01\t1.31524149e-01\n",
      "   19\t+7.1029758036435284e-02\t1.00159349e-01\n",
      "   20\t+4.3044406709557753e-02\t7.73132283e-02\n",
      "   21\t+2.5512380937650809e-02\t6.24099651e-02\n",
      "   22\t+1.5190633005768532e-02\t4.66351906e-02\n",
      "   23\t+8.6002267286773033e-03\t3.71661493e-02\n",
      "   24\t+4.8519348927594571e-03\t3.06898099e-02\n",
      "   25\t+2.6291102563634084e-03\t2.36910193e-02\n",
      "   26\t+1.4920995083053175e-03\t1.63088962e-02\n",
      "   27\t+8.1302236300714100e-04\t1.21148648e-02\n",
      "   28\t+4.5411375032926863e-04\t8.84680258e-03\n",
      "   29\t+2.3896256043418493e-04\t6.87863206e-03\n",
      "   30\t+1.2987696491868796e-04\t4.64047826e-03\n",
      "   31\t+6.6298934094900368e-05\t3.57280181e-03\n",
      "   32\t+3.4597951971038702e-05\t2.40839762e-03\n",
      "   33\t+1.8775463551975151e-05\t1.76233184e-03\n",
      "   34\t+9.8913310177928531e-06\t1.36809557e-03\n",
      "   35\t+5.2905152643073958e-06\t9.93924173e-04\n",
      "   36\t+2.9191989485169679e-06\t7.69385858e-04\n",
      "   37\t+1.6593417612089653e-06\t6.20318914e-04\n",
      "   38\t+8.9070844868631718e-07\t5.23749512e-04\n",
      "   39\t+4.7718150454994481e-07\t3.49213873e-04\n",
      "   40\t+2.5919962971354884e-07\t2.42044121e-04\n",
      "   41\t+1.4260957110797681e-07\t1.73163153e-04\n",
      "   42\t+7.8877233163796198e-08\t1.26397851e-04\n",
      "   43\t+4.3934966384104095e-08\t9.33814407e-05\n",
      "   44\t+2.4559033191373868e-08\t6.95332823e-05\n",
      "   45\t+1.3791931423397747e-08\t5.20289538e-05\n",
      "   46\t+7.7670952779910565e-09\t3.90607803e-05\n",
      "Terminated - target objective reached after 0.27 seconds.\n",
      "\n"
     ]
    }
   ],
   "source": [
    "x, opt_log = solver.solve(problem)"
   ]
  },
  {
   "cell_type": "code",
   "execution_count": 12,
   "id": "39421723",
   "metadata": {},
   "outputs": [
    {
     "data": {
      "text/plain": [
       "[<matplotlib.lines.Line2D at 0x12208dd60>]"
      ]
     },
     "execution_count": 12,
     "metadata": {},
     "output_type": "execute_result"
    },
    {
     "data": {
      "image/png": "[encoded data removed]",
      "text/plain": [
       "<Figure size 432x288 with 1 Axes>"
      ]
     },
     "metadata": {
      "needs_background": "light"
     },
     "output_type": "display_data"
    }
   ],
   "source": [
    "plt.semilogy(opt_log['iterations']['fx'])"
   ]
  },
  {
   "cell_type": "code",
   "execution_count": null,
   "id": "a77dcdb7",
   "metadata": {},
   "outputs": [],
   "source": []
  }
 ],
 "metadata": {
  "interpreter": {
   "hash": "437509238e05f23707272bb58d1490b7acc9984b8122062e2294ddf3bd1e54a4"
  },
  "kernelspec": {
   "display_name": "Python 3.9.7 64-bit ('base': conda)",
   "name": "python3"
  },
  "language_info": {
   "codemirror_mode": {
    "name": "ipython",
    "version": 3
   },
   "file_extension": ".py",
   "mimetype": "text/x-python",
   "name": "python",
   "nbconvert_exporter": "python",
   "pygments_lexer": "ipython3",
   "version": "3.9.7"
  }
 },
 "nbformat": 4,
 "nbformat_minor": 5
}
