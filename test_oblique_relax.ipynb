{
 "cells": [
  {
   "cell_type": "code",
   "execution_count": 1,
   "metadata": {},
   "outputs": [],
   "source": [
    "import numpy as np\n",
    "import pandas as pd  \n",
    "import matplotlib.pyplot as plt\n",
    "import itertools\n",
    "\n",
    "from nopt.transforms import *\n",
    "from nopt.constraints import *\n",
    "from nopt.problems import *\n",
    "from nopt.solvers import *\n",
    "from nopt.benchmarks import *\n",
    "\n",
    "from sklearn.decomposition import SparsePCA"
   ]
  },
  {
   "cell_type": "code",
   "execution_count": 2,
   "id": "29fa9595",
   "metadata": {},
   "outputs": [],
   "source": [
    "solver_ospca = ObliqueSPCA(logverbosity = 2, maxiter = 2000)\n",
    "Benchmark1 = GaussianSPCA(verb=1)"
   ]
  },
  {
   "cell_type": "code",
   "execution_count": 135,
   "id": "47729a48",
   "metadata": {},
   "outputs": [],
   "source": [
    "params = {\n",
    "    'rank': [10],\n",
    "    'n': [500],\n",
    "    'num_samples': [500, 1000, 1500],\n",
    "    'theta': [5],\n",
    "    'alpha': np.linspace(start=0.1,stop = 0.25,num=11),\n",
    "    'run': np.arange(0,20)\n",
    "}"
   ]
  },
  {
   "cell_type": "code",
   "execution_count": 134,
   "id": "815c55fc",
   "metadata": {},
   "outputs": [
    {
     "name": "stdout",
     "output_type": "stream",
     "text": [
      "Problem solved in 760 iterations.\n"
     ]
    }
   ],
   "source": [
    "opt_log, final_values, _ = Benchmark1.single_test(solver_ospca.solve, point)"
   ]
  },
  {
   "cell_type": "code",
   "execution_count": 8,
   "id": "7e99a7c4",
   "metadata": {},
   "outputs": [
    {
     "name": "stdout",
     "output_type": "stream",
     "text": [
      "Problem solved in 118 iterations.\n"
     ]
    },
    {
     "name": "stderr",
     "output_type": "stream",
     "text": [
      "/Users/vary/src/pynopt/nopt/constraints/sparse_oblique.py:56: RuntimeWarning: invalid value encountered in true_divide\n",
      "  return (ind, _x / col_norms)\n"
     ]
    },
    {
     "name": "stdout",
     "output_type": "stream",
     "text": [
      "Problem solved in 179 iterations.\n",
      "Problem solved in 331 iterations.\n",
      "Problem solved in 138 iterations.\n",
      "Problem solved in 152 iterations.\n",
      "Problem solved in 2000 iterations.\n",
      "Problem solved in 82 iterations.\n",
      "Problem solved in 348 iterations.\n",
      "Problem solved in 1354 iterations.\n",
      "Problem solved in 106 iterations.\n",
      "Problem solved in 184 iterations.\n",
      "Problem solved in 146 iterations.\n",
      "Problem solved in 295 iterations.\n",
      "Problem solved in 256 iterations.\n",
      "Problem solved in 162 iterations.\n",
      "Problem solved in 139 iterations.\n",
      "Problem solved in 299 iterations.\n",
      "Problem solved in 296 iterations.\n",
      "Problem solved in 712 iterations.\n",
      "Problem solved in 876 iterations.\n",
      "Problem solved in 230 iterations.\n",
      "Problem solved in 156 iterations.\n",
      "Problem solved in 621 iterations.\n",
      "Problem solved in 183 iterations.\n",
      "Problem solved in 186 iterations.\n",
      "Problem solved in 143 iterations.\n",
      "Problem solved in 296 iterations.\n",
      "Problem solved in 252 iterations.\n",
      "Problem solved in 222 iterations.\n",
      "Problem solved in 190 iterations.\n",
      "Problem solved in 250 iterations.\n",
      "Problem solved in 267 iterations.\n",
      "Problem solved in 213 iterations.\n",
      "Problem solved in 188 iterations.\n",
      "Problem solved in 328 iterations.\n",
      "Problem solved in 174 iterations.\n",
      "Problem solved in 207 iterations.\n",
      "Problem solved in 246 iterations.\n",
      "Problem solved in 146 iterations.\n",
      "Problem solved in 246 iterations.\n",
      "Problem solved in 411 iterations.\n",
      "Problem solved in 290 iterations.\n",
      "Problem solved in 407 iterations.\n",
      "Problem solved in 190 iterations.\n",
      "Problem solved in 189 iterations.\n",
      "Problem solved in 412 iterations.\n",
      "Problem solved in 187 iterations.\n",
      "Problem solved in 318 iterations.\n",
      "Problem solved in 157 iterations.\n",
      "Problem solved in 275 iterations.\n",
      "Problem solved in 399 iterations.\n",
      "Problem solved in 552 iterations.\n",
      "Problem solved in 325 iterations.\n",
      "Problem solved in 340 iterations.\n",
      "Problem solved in 468 iterations.\n",
      "Problem solved in 455 iterations.\n",
      "Problem solved in 452 iterations.\n",
      "Problem solved in 252 iterations.\n",
      "Problem solved in 338 iterations.\n",
      "Problem solved in 372 iterations.\n",
      "Problem solved in 1513 iterations.\n",
      "Problem solved in 351 iterations.\n",
      "Problem solved in 402 iterations.\n",
      "Problem solved in 532 iterations.\n",
      "Problem solved in 546 iterations.\n",
      "Problem solved in 1608 iterations.\n",
      "Problem solved in 533 iterations.\n",
      "Problem solved in 585 iterations.\n",
      "Problem solved in 468 iterations.\n",
      "Problem solved in 1003 iterations.\n"
     ]
    }
   ],
   "source": [
    "test_results = Benchmark1.grid_test(solver_ospca.solve, params)"
   ]
  },
  {
   "cell_type": "code",
   "execution_count": 85,
   "id": "0df76560",
   "metadata": {},
   "outputs": [],
   "source": [
    "track_fields = ['fx', 'iteration', 'time', 'dist_fx_true', 'dist_x_true']\n",
    "grouped_runs = test_results.groupby(['rank', 'n', 'num_samples', 'theta', 'alpha'])[track_fields]"
   ]
  },
  {
   "cell_type": "code",
   "execution_count": 116,
   "id": "cff793dd",
   "metadata": {},
   "outputs": [
    {
     "data": {
      "text/plain": [
       "array([0.05 , 0.075, 0.1  , 0.125, 0.15 , 0.175, 0.2  ])"
      ]
     },
     "execution_count": 116,
     "metadata": {},
     "output_type": "execute_result"
    }
   ],
   "source": [
    "plt.plot(test_results.alpha.unique(), grouped_runs.mean().dist_x_true)"
   ]
  },
  {
   "cell_type": "code",
   "execution_count": 129,
   "id": "b230034f",
   "metadata": {},
   "outputs": [
    {
     "data": {
      "text/plain": [
       "[<matplotlib.lines.Line2D at 0x148677640>]"
      ]
     },
     "execution_count": 129,
     "metadata": {},
     "output_type": "execute_result"
    },
    {
     "data": {
      "image/png": "[encoded data removed]",
      "text/plain": [
       "<Figure size 432x288 with 1 Axes>"
      ]
     },
     "metadata": {
      "needs_background": "light"
     },
     "output_type": "display_data"
    }
   ],
   "source": [
    "plt.plot(test_results.alpha.unique(), grouped_runs.mean().dist_x_true)"
   ]
  },
  {
   "cell_type": "code",
   "execution_count": 13,
   "id": "dfcc38eb",
   "metadata": {},
   "outputs": [
    {
     "data": {
      "text/plain": [
       "array([0.05 , 0.075, 0.1  , 0.125, 0.15 , 0.175, 0.2  ])"
      ]
     },
     "execution_count": 13,
     "metadata": {},
     "output_type": "execute_result"
    }
   ],
   "source": [
    "alphas"
   ]
  },
  {
   "cell_type": "code",
   "execution_count": 4,
   "id": "219270c7",
   "metadata": {},
   "outputs": [
    {
     "name": "stdout",
     "output_type": "stream",
     "text": [
      "Problem solved in 136 iterations.\n"
     ]
    },
    {
     "name": "stderr",
     "output_type": "stream",
     "text": [
      "/Users/vary/src/pynopt/nopt/constraints/sparse_oblique.py:56: RuntimeWarning: invalid value encountered in true_divide\n",
      "  return (ind, _x / col_norms)\n"
     ]
    },
    {
     "name": "stdout",
     "output_type": "stream",
     "text": [
      "Problem solved in 367 iterations.\n",
      "Problem solved in 142 iterations.\n",
      "Problem solved in 98 iterations.\n",
      "Problem solved in 154 iterations.\n",
      "Problem solved in 88 iterations.\n",
      "Problem solved in 959 iterations.\n",
      "Problem solved in 98 iterations.\n",
      "Problem solved in 202 iterations.\n",
      "Problem solved in 82 iterations.\n",
      "Mean iters:   233 \t x_dist: 1.19781419e-01 \t fx_dist: 3.44143790e-03\n",
      "Problem solved in 202 iterations.\n",
      "Problem solved in 166 iterations.\n",
      "Problem solved in 269 iterations.\n",
      "Problem solved in 119 iterations.\n",
      "Problem solved in 174 iterations.\n",
      "Problem solved in 1292 iterations.\n",
      "Problem solved in 96 iterations.\n",
      "Problem solved in 195 iterations.\n",
      "Problem solved in 103 iterations.\n",
      "Problem solved in 640 iterations.\n",
      "Mean iters:   326 \t x_dist: 1.10611964e-01 \t fx_dist: 9.86423232e-04\n",
      "Problem solved in 151 iterations.\n",
      "Problem solved in 209 iterations.\n",
      "Problem solved in 129 iterations.\n",
      "Problem solved in 297 iterations.\n",
      "Problem solved in 260 iterations.\n",
      "Problem solved in 316 iterations.\n",
      "Problem solved in 173 iterations.\n",
      "Problem solved in 296 iterations.\n",
      "Problem solved in 171 iterations.\n",
      "Problem solved in 203 iterations.\n",
      "Mean iters:   220 \t x_dist: 2.00341716e-02 \t fx_dist: -6.32961873e-03\n",
      "Problem solved in 200 iterations.\n",
      "Problem solved in 289 iterations.\n",
      "Problem solved in 355 iterations.\n",
      "Problem solved in 259 iterations.\n",
      "Problem solved in 315 iterations.\n",
      "Problem solved in 175 iterations.\n",
      "Problem solved in 142 iterations.\n",
      "Problem solved in 190 iterations.\n",
      "Problem solved in 246 iterations.\n",
      "Problem solved in 482 iterations.\n",
      "Mean iters:   265 \t x_dist: 2.05882568e-02 \t fx_dist: -8.25632652e-03\n",
      "Problem solved in 194 iterations.\n",
      "Problem solved in 361 iterations.\n",
      "Problem solved in 470 iterations.\n",
      "Problem solved in 241 iterations.\n",
      "Problem solved in 142 iterations.\n",
      "Problem solved in 286 iterations.\n",
      "Problem solved in 279 iterations.\n",
      "Problem solved in 223 iterations.\n",
      "Problem solved in 444 iterations.\n",
      "Problem solved in 356 iterations.\n",
      "Mean iters:   300 \t x_dist: 2.26996204e-02 \t fx_dist: -9.96644649e-03\n",
      "Problem solved in 305 iterations.\n",
      "Problem solved in 434 iterations.\n",
      "Problem solved in 526 iterations.\n",
      "Problem solved in 333 iterations.\n",
      "Problem solved in 340 iterations.\n",
      "Problem solved in 243 iterations.\n",
      "Problem solved in 506 iterations.\n",
      "Problem solved in 428 iterations.\n",
      "Problem solved in 259 iterations.\n",
      "Problem solved in 228 iterations.\n",
      "Mean iters:   360 \t x_dist: 1.48017938e-01 \t fx_dist: -1.72864314e-03\n",
      "Problem solved in 718 iterations.\n",
      "Problem solved in 275 iterations.\n",
      "Problem solved in 895 iterations.\n",
      "Problem solved in 296 iterations.\n",
      "Problem solved in 1488 iterations.\n",
      "Problem solved in 2453 iterations.\n",
      "Problem solved in 806 iterations.\n",
      "Problem solved in 541 iterations.\n",
      "Problem solved in 1829 iterations.\n",
      "Problem solved in 1088 iterations.\n",
      "Mean iters:  1039 \t x_dist: 8.45958781e-02 \t fx_dist: -2.02013412e-03\n"
     ]
    }
   ],
   "source": [
    "final_values_arr = {}\n",
    "iterations = {}\n",
    "dist_x_trues = {}\n",
    "dist_fx_trues = {}\n",
    "reps = 10\n",
    "for s in sparsities:\n",
    "    iters_temp = 0\n",
    "    errs_fx_temp = 0\n",
    "    errs_x_temp = 0\n",
    "    for i in range(reps):\n",
    "        _, final_values, _ = Benchmark1.single_test(solver_ospca.solve, n, ranks, s, num_samples, theta = thetas)\n",
    "        final_values_arr[str(s)] = final_values\n",
    "        iters_temp += final_values['iteration']\n",
    "        errs_fx_temp += final_values['dist_fx_true']\n",
    "        errs_x_temp += final_values['dist_x_true']\n",
    "    iterations[str(s)] = iters_temp/reps\n",
    "    dist_x_trues[str(s)] = errs_x_temp/reps\n",
    "    dist_fx_trues[str(s)] = errs_fx_temp/reps\n",
    "    print(\"Mean iters: %5d \\t x_dist: %0.8e \\t fx_dist: %0.8e\" % (round(iterations[str(s)]), dist_x_trues[str(s)], dist_fx_trues[str(s)]))\n"
   ]
  },
  {
   "cell_type": "code",
   "execution_count": 5,
   "id": "2a4f9cb9",
   "metadata": {},
   "outputs": [
    {
     "name": "stderr",
     "output_type": "stream",
     "text": [
      "/var/folders/7m/q_q2llts4f10jsygyggbp9kw0000gp/T/ipykernel_43669/4224488823.py:5: UserWarning: FixedFormatter should only be used together with FixedLocator\n",
      "  axs[0].set_xticklabels(list(iterations.keys()))\n",
      "/var/folders/7m/q_q2llts4f10jsygyggbp9kw0000gp/T/ipykernel_43669/4224488823.py:9: UserWarning: FixedFormatter should only be used together with FixedLocator\n",
      "  axs[1].set_xticklabels(list(iterations.keys()))\n",
      "/var/folders/7m/q_q2llts4f10jsygyggbp9kw0000gp/T/ipykernel_43669/4224488823.py:14: UserWarning: FixedFormatter should only be used together with FixedLocator\n",
      "  axs[2].set_xticklabels(list(iterations.keys()))\n"
     ]
    },
    {
     "data": {
      "image/png": "[encoded data removed]",
      "text/plain": [
       "<Figure size 900x2700 with 3 Axes>"
      ]
     },
     "metadata": {
      "needs_background": "light"
     },
     "output_type": "display_data"
    }
   ],
   "source": [
    "fig, axs = plt.subplots(3,1)\n",
    "fig.set_size_inches(5, 15)\n",
    "fig.set_dpi(180)\n",
    "im1=axs[0].bar(range(len(iterations)), list(iterations.values()), align='center')\n",
    "axs[0].set_xticklabels(list(iterations.keys()))\n",
    "axs[0].set_ylabel('Number of iterations')\n",
    "axs[0].set_xlabel('Sparsity')\n",
    "im2=axs[1].bar(range(len(iterations)), list(dist_x_trues.values()), align='center')\n",
    "axs[1].set_xticklabels(list(iterations.keys()))\n",
    "axs[1].set_ylabel('Cosine distance')\n",
    "axs[1].set_xlabel('Sparsity')\n",
    "im3=axs[2].bar(range(len(iterations)), list(dist_fx_trues.values()), align='center')\n",
    "axs[2].set_ylabel('Objective value distance')\n",
    "axs[2].set_xticklabels(list(iterations.keys()))\n",
    "axs[2].set_xlabel('Sparsity')\n",
    "plt.show()\n"
   ]
  },
  {
   "cell_type": "code",
   "execution_count": 22,
   "id": "71b31ce6",
   "metadata": {},
   "outputs": [
    {
     "data": {
      "image/png": "[encoded data removed]",
      "text/plain": [
       "<Figure size 432x288 with 1 Axes>"
      ]
     },
     "metadata": {
      "needs_background": "light"
     },
     "output_type": "display_data"
    }
   ],
   "source": [
    "plt.bar(range(len(iterations)), list(iterations.values()), align='center')\n",
    "plt.xticks(range(len(iterations)), list(iterations.keys()))\n",
    "plt.show()"
   ]
  },
  {
   "cell_type": "code",
   "execution_count": 19,
   "id": "607f5ade",
   "metadata": {},
   "outputs": [
    {
     "data": {
      "text/plain": [
       "250"
      ]
     },
     "execution_count": 19,
     "metadata": {},
     "output_type": "execute_result"
    }
   ],
   "source": [
    "np.random.seed(seed)\n",
    "final_values = {}\n",
    "for params in params_list:\n",
    "    n = params[0]\n",
    "    rank = params[1]\n",
    "    sparsity = params[2]\n",
    "    num_samples = params[3]\n",
    "    theta = params[4]\n",
    "            \n",
    "    _, track_values, _ = self.single_test(self, solver, n, rank, sparsity, num_samples, theta)\n",
    "    final_values[params] = track_values"
   ]
  },
  {
   "cell_type": "code",
   "execution_count": 18,
   "id": "74ce1799",
   "metadata": {},
   "outputs": [
    {
     "data": {
      "text/plain": [
       "[<matplotlib.lines.Line2D at 0x167f013d0>]"
      ]
     },
     "execution_count": 18,
     "metadata": {},
     "output_type": "execute_result"
    },
    {
     "data": {
      "image/png": "[encoded data removed]",
      "text/plain": [
       "<Figure size 432x288 with 1 Axes>"
      ]
     },
     "metadata": {
      "needs_background": "light"
     },
     "output_type": "display_data"
    }
   ],
   "source": [
    "plt.plot(opt_log['iterations']['dist_x_true'])"
   ]
  },
  {
   "cell_type": "code",
   "execution_count": 7,
   "id": "c1ac184e",
   "metadata": {},
   "outputs": [
    {
     "data": {
      "text/plain": [
       "{'fx': 506.2931668512404,\n",
       " 'iteration': 310,\n",
       " 'time': 2.61405086517334,\n",
       " 'dist_fx_true': -0.005737434396284683,\n",
       " 'dist_x_true': 0.04911063383958569}"
      ]
     },
     "execution_count": 7,
     "metadata": {},
     "output_type": "execute_result"
    }
   ],
   "source": [
    "track_values"
   ]
  },
  {
   "cell_type": "code",
   "execution_count": 10,
   "metadata": {},
   "outputs": [
    {
     "name": "stdout",
     "output_type": "stream",
     "text": [
      "1.549142831326303\n",
      "0.016153062443775415\n"
     ]
    }
   ],
   "source": [
    "np.random.seed(123)\n",
    "struct_s = np.repeat(round(s/r), r)\n",
    "subspace0, q0 = GenerateQSMat1((n,r), struct_s)\n",
    "\n",
    "sparsities = np.count_nonzero(q0, 0)\n",
    "# Signal strength\n",
    "theta = np.linspace(5, 2, num = r) # np.zeros((r,)) #\n",
    "theta = np.diag(theta)\n",
    "samples = np.random.multivariate_normal(np.zeros((n,)), np.eye(n) + 5*q0 @ q0.T, N).T\n",
    "#covariance matrix = samples @ samples.T / N\n",
    "A = LinearMatrix(samples.T / np.sqrt(N))\n",
    "A = LinearMatrix(samples @ samples.T / N)"
   ]
  },
  {
   "cell_type": "code",
   "execution_count": 11,
   "metadata": {},
   "outputs": [
    {
     "name": "stdout",
     "output_type": "stream",
     "text": [
      "500\n"
     ]
    },
    {
     "data": {
      "text/plain": [
       "504.50670869600975"
      ]
     },
     "execution_count": 11,
     "metadata": {},
     "output_type": "execute_result"
    }
   ],
   "source": [
    "lam = n\n",
    "print(lam)\n",
    "problem = SparsePrincipalSubspace(A, rank = r, sparsity=s)\n",
    "problem.objective(q0)"
   ]
  },
  {
   "cell_type": "code",
   "execution_count": 12,
   "id": "d3fed3b2",
   "metadata": {},
   "outputs": [],
   "source": [
    "solver_lf = LandingField(logverbosity = 2, maxiter = 10000)\n",
    "solver_ospca = ObliqueSPCA(logverbosity = 2, maxiter = 10000)"
   ]
  },
  {
   "cell_type": "code",
   "execution_count": 13,
   "id": "3dc015b9",
   "metadata": {},
   "outputs": [
    {
     "name": "stdout",
     "output_type": "stream",
     "text": [
      " iter\t\t   obj. value\t    grad. norm\n",
      "    1\t+5.2905906291049121e+02\t1.23701250e+02\n",
      "    2\t+5.2813193062302537e+02\t8.06440578e+01\n",
      "    3\t+5.2772474480302401e+02\t7.10355191e+01\n",
      "    4\t+5.2746215741433934e+02\t7.16608391e+01\n",
      "    5\t+5.2726553359772299e+02\t6.91954302e+01\n",
      "    6\t+5.2711662399630825e+02\t7.05199846e+01\n",
      "    7\t+5.2700293171049077e+02\t7.02640883e+01\n",
      "    8\t+5.2692420234682231e+02\t7.12282798e+01\n",
      "    9\t+5.2687142381043930e+02\t7.19605936e+01\n",
      "   10\t+5.2684942470903718e+02\t7.26874459e+01\n",
      "   11\t+5.2684734566654265e+02\t7.40434792e+01\n",
      "   12\t+5.2577668761177824e+02\t7.45999864e+01\n",
      "   13\t+5.2556662956860475e+02\t5.74365045e+01\n",
      "   14\t+5.2509727147189381e+02\t6.54140701e+01\n",
      "   15\t+5.2489994021722021e+02\t5.59469923e+01\n",
      "   16\t+5.2487468188799255e+02\t6.23548208e+01\n",
      "   17\t+5.2443844409230542e+02\t6.49539177e+01\n",
      "   18\t+5.2432484925572942e+02\t5.61365091e+01\n",
      "   19\t+5.2228909422177082e+02\t8.54416897e+01\n",
      "   20\t+5.2199448183523873e+02\t5.68762612e+01\n",
      "   21\t+5.2191921531068419e+02\t6.06994382e+01\n",
      "   22\t+5.2156619990653462e+02\t6.07407446e+01\n",
      "   23\t+5.2143104978844929e+02\t5.56020838e+01\n",
      "   24\t+5.2114758131433132e+02\t6.00880959e+01\n",
      "   25\t+5.2101790055623906e+02\t5.56133436e+01\n",
      "   26\t+5.2076402804996405e+02\t6.17911082e+01\n",
      "   27\t+5.2074274202910499e+02\t5.66561341e+01\n",
      "   28\t+5.2055274654297853e+02\t6.17853680e+01\n",
      "   29\t+5.2044442130608184e+02\t5.80342600e+01\n",
      "   30\t+5.2019005280827923e+02\t6.18635737e+01\n",
      "   31\t+5.2012345837648854e+02\t5.56392631e+01\n",
      "   32\t+5.1986093230684264e+02\t6.33591318e+01\n",
      "   33\t+5.1979904918515547e+02\t5.78274468e+01\n",
      "   34\t+5.1979172997300475e+02\t5.96293336e+01\n",
      "   35\t+5.1965457415680999e+02\t5.99638794e+01\n",
      "   36\t+5.1961909271164018e+02\t5.85004719e+01\n",
      "   37\t+5.1961316547784327e+02\t5.80915411e+01\n",
      "   38\t+5.1953781065375426e+02\t5.99897630e+01\n",
      "   39\t+5.1914284663779461e+02\t5.78051796e+01\n",
      "   40\t+5.1788841963233733e+02\t8.01761540e+01\n",
      "   41\t+5.1760604710885229e+02\t6.12626432e+01\n",
      "   42\t+5.1750306001260492e+02\t5.92401941e+01\n",
      "   43\t+5.1737038990295753e+02\t5.88383475e+01\n",
      "   44\t+5.1736887382277484e+02\t5.87010402e+01\n",
      "   45\t+5.1718727117065669e+02\t6.08411598e+01\n",
      "   46\t+5.1717813834102446e+02\t5.95111967e+01\n",
      "   47\t+5.1709126553007036e+02\t5.88141109e+01\n",
      "   48\t+5.1707161145320151e+02\t5.89728186e+01\n",
      "   49\t+5.1702712272508029e+02\t5.81303763e+01\n",
      "   50\t+5.1700721406174966e+02\t5.86797280e+01\n",
      "   51\t+5.1700712559506576e+02\t5.79690235e+01\n",
      "   52\t+5.1696565068647885e+02\t5.99255042e+01\n",
      "   53\t+5.1541454753934443e+02\t5.79756228e+01\n",
      "   54\t+5.1422990502622304e+02\t8.13872985e+01\n",
      "   55\t+5.1400243422420442e+02\t6.82221551e+01\n",
      "   56\t+5.1399163743964027e+02\t6.28306886e+01\n",
      "   57\t+5.1389877491680761e+02\t6.36143988e+01\n",
      "   58\t+5.1388730665572746e+02\t6.15261601e+01\n",
      "   59\t+5.1384478519350171e+02\t6.17851472e+01\n",
      "   60\t+5.1383173307974255e+02\t6.10864699e+01\n",
      "   61\t+5.1381053563504520e+02\t6.10660737e+01\n",
      "   62\t+5.1379862701773322e+02\t6.09118683e+01\n",
      "   63\t+5.1379476693505114e+02\t6.08067035e+01\n",
      "   64\t+5.1377698417729823e+02\t6.13133827e+01\n",
      "   65\t+5.1374007972600532e+02\t6.07232935e+01\n",
      "   66\t+5.1353360857985501e+02\t6.40718293e+01\n",
      "   67\t+5.1347620681438946e+02\t6.09951155e+01\n",
      "   68\t+5.1341333969642153e+02\t6.12313426e+01\n",
      "   69\t+5.1340695762724681e+02\t6.05416331e+01\n",
      "   70\t+5.1334083036966410e+02\t6.15836311e+01\n",
      "   71\t+5.1333031844040306e+02\t6.06672794e+01\n",
      "   72\t+5.1330564457533023e+02\t6.05989070e+01\n",
      "   73\t+5.1330021598467715e+02\t6.04874164e+01\n",
      "   74\t+5.1326975650817269e+02\t6.06767383e+01\n",
      "   75\t+5.1326015630854272e+02\t6.05145733e+01\n",
      "   76\t+5.1325633033667043e+02\t6.03319083e+01\n",
      "   77\t+5.1323590695333780e+02\t6.09229715e+01\n",
      "   78\t+5.1259029901837755e+02\t6.02622044e+01\n",
      "   79\t+5.1227649415505630e+02\t7.32388457e+01\n",
      "   80\t+5.1216777765694360e+02\t6.35263474e+01\n",
      "   81\t+5.1215542551985914e+02\t6.92120764e+01\n",
      "   82\t+5.1177230122998390e+02\t6.58359095e+01\n",
      "   83\t+5.1171210023454699e+02\t6.24187480e+01\n",
      "   84\t+5.1168777635939563e+02\t6.14124397e+01\n",
      "   85\t+5.1147128583569406e+02\t6.69468268e+01\n",
      "   86\t+5.0742426730032463e+02\t6.00276662e+01\n",
      "   87\t+5.0702579338978342e+02\t7.04255818e+01\n",
      "   88\t+5.0624372387372023e+02\t7.35871939e+01\n",
      "   89\t+5.0600148825311618e+02\t6.27976242e+01\n",
      "   90\t+5.0587216925704070e+02\t6.31032122e+01\n",
      "   91\t+5.0583339897201267e+02\t6.73471984e+01\n",
      "   92\t+5.0548585903203343e+02\t6.84864496e+01\n",
      "   93\t+5.0396729017213841e+02\t6.12821567e+01\n",
      "   94\t+5.0226038639709930e+02\t8.72118279e+01\n",
      "   95\t+5.0216692803410592e+02\t6.32265384e+01\n",
      "   96\t+5.0201680362984456e+02\t5.99581941e+01\n",
      "   97\t+5.0191752745909258e+02\t5.66020751e+01\n",
      "   98\t+5.0189372326198418e+02\t5.89066751e+01\n",
      "   99\t+5.0188122982417264e+02\t5.72968540e+01\n",
      "  100\t+5.0187372033245947e+02\t5.80395602e+01\n",
      "  101\t+5.0186770384420640e+02\t5.70025204e+01\n",
      "  102\t+5.0186358421615392e+02\t5.75225062e+01\n",
      "  103\t+5.0186007201229472e+02\t5.68025059e+01\n",
      "  104\t+5.0185755298714747e+02\t5.72049839e+01\n",
      "  105\t+5.0185538973214574e+02\t5.66777786e+01\n",
      "  106\t+5.0185379537079189e+02\t5.70012571e+01\n",
      "  107\t+5.0185243211106393e+02\t5.66034089e+01\n",
      "  108\t+5.0185140671323501e+02\t5.68666986e+01\n",
      "  109\t+5.0185053561413611e+02\t5.65604768e+01\n",
      "  110\t+5.0184986983632768e+02\t5.67757402e+01\n",
      "  111\t+5.0184930790903729e+02\t5.65367765e+01\n",
      "  112\t+5.0184887298248947e+02\t5.67130496e+01\n",
      "  113\t+5.0184850808354463e+02\t5.65247192e+01\n",
      "  114\t+5.0184822284497847e+02\t5.66691056e+01\n",
      "  115\t+5.0184798479484965e+02\t5.65196035e+01\n",
      "  116\t+5.0184779726029564e+02\t5.66378287e+01\n",
      "  117\t+5.0184764146555796e+02\t5.65185135e+01\n",
      "  118\t+5.0184751797756809e+02\t5.66152509e+01\n",
      "  119\t+5.0184741578949138e+02\t5.65196467e+01\n",
      "  120\t+5.0184733439906188e+02\t5.65987358e+01\n",
      "  121\t+5.0184726726876738e+02\t5.65219000e+01\n",
      "  122\t+5.0184677438002603e+02\t5.65865045e+01\n",
      "  123\t+5.0183876496540654e+02\t6.02378267e+01\n",
      "  124\t+5.0183676567970355e+02\t5.91262602e+01\n",
      "  125\t+5.0183534395994894e+02\t5.86035420e+01\n",
      "  126\t+5.0183434596091251e+02\t5.89332811e+01\n",
      "  127\t+5.0183355786805737e+02\t5.85592463e+01\n",
      "  128\t+5.0183297075230291e+02\t5.88370724e+01\n",
      "  129\t+5.0183249544780102e+02\t5.85548415e+01\n",
      "  130\t+5.0183213301428242e+02\t5.87803908e+01\n",
      "  131\t+5.0183183862544678e+02\t5.85618861e+01\n",
      "  132\t+5.0183161151571323e+02\t5.87430521e+01\n",
      "  133\t+5.0183142741905505e+02\t5.85719521e+01\n",
      "  134\t+5.0183128435162160e+02\t5.87168822e+01\n",
      "  135\t+5.0183116873015490e+02\t5.85821156e+01\n",
      "  136\t+5.0183107840772550e+02\t5.86978358e+01\n",
      "  137\t+5.0183100562320857e+02\t5.85913384e+01\n",
      "  138\t+5.0183094854212021e+02\t5.86836361e+01\n",
      "  139\t+5.0183090265912767e+02\t5.85993129e+01\n",
      "  140\t+5.0183086656760298e+02\t5.86728777e+01\n",
      "  141\t+5.0183083761676608e+02\t5.86060293e+01\n",
      "  142\t+5.0183081479116834e+02\t5.86646343e+01\n",
      "  143\t+5.0183079651281849e+02\t5.86115960e+01\n",
      "  144\t+5.0183078207559629e+02\t5.86582660e+01\n",
      "  145\t+5.0183077053053887e+02\t5.86161610e+01\n",
      "  146\t+5.0183076139870644e+02\t5.86533158e+01\n",
      "  147\t+5.0183075410440881e+02\t5.86198769e+01\n",
      "  148\t+5.0183074832839026e+02\t5.86494496e+01\n",
      "  149\t+5.0183074371880213e+02\t5.86228854e+01\n",
      "  150\t+5.0183074006548242e+02\t5.86464189e+01\n",
      "  151\t+5.0183073715203943e+02\t5.86253113e+01\n",
      "  152\t+5.0183073484139953e+02\t5.86440362e+01\n",
      "  153\t+5.0183073299978429e+02\t5.86272616e+01\n",
      "  154\t+5.0183073153840826e+02\t5.86421586e+01\n",
      "  155\t+5.0183073037421048e+02\t5.86288258e+01\n",
      "  156\t+5.0183072944998582e+02\t5.86406763e+01\n",
      "  157\t+5.0183072871397997e+02\t5.86300781e+01\n",
      "  158\t+5.0183072812948518e+02\t5.86395044e+01\n",
      "  159\t+5.0183072766416080e+02\t5.86310792e+01\n",
      "  160\t+5.0183072729452590e+02\t5.86385768e+01\n",
      "  161\t+5.0183072700032415e+02\t5.86318786e+01\n",
      "  162\t+5.0183072676657162e+02\t5.86378418e+01\n",
      "  163\t+5.0183072658055715e+02\t5.86325164e+01\n",
      "  164\t+5.0183072643273761e+02\t5.86372591e+01\n",
      "  165\t+5.0183072631512414e+02\t5.86330250e+01\n",
      "  166\t+5.0183072622164798e+02\t5.86367967e+01\n",
      "  167\t+5.0183072614728178e+02\t5.86334302e+01\n",
      "  168\t+5.0183072608817116e+02\t5.86364298e+01\n",
      "  169\t+5.0183072604114960e+02\t5.86337530e+01\n",
      "  170\t+5.0183072600377091e+02\t5.86361384e+01\n",
      "  171\t+5.0183072597403884e+02\t5.86340100e+01\n",
      "  172\t+5.0183072595040227e+02\t5.86359070e+01\n",
      "  173\t+5.0183072593160244e+02\t5.86342146e+01\n",
      "  174\t+5.0183072591665609e+02\t5.86357232e+01\n",
      "  175\t+5.0183072590476866e+02\t5.86343775e+01\n",
      "  176\t+5.0183072589531741e+02\t5.86355771e+01\n",
      "  177\t+5.0183072588780072e+02\t5.86345070e+01\n",
      "  178\t+5.0183072588182443e+02\t5.86354610e+01\n",
      "  179\t+5.0183072587707153e+02\t5.86346101e+01\n",
      "  180\t+5.0183072587329241e+02\t5.86353687e+01\n",
      "  181\t+5.0183072587028704e+02\t5.86346921e+01\n",
      "  182\t+5.0183072586789734e+02\t5.86352953e+01\n",
      "  183\t+5.0183072586599707e+02\t5.86347573e+01\n",
      "  184\t+5.0183072586448588e+02\t5.86352370e+01\n",
      "  185\t+5.0183072586328433e+02\t5.86348092e+01\n",
      "  186\t+5.0183072586232896e+02\t5.86351907e+01\n",
      "  187\t+5.0183072586156908e+02\t5.86348505e+01\n",
      "  188\t+5.0183072586096483e+02\t5.86351538e+01\n",
      "  189\t+5.0183072586048428e+02\t5.86348833e+01\n",
      "  190\t+5.0183072586010223e+02\t5.86351245e+01\n",
      "  191\t+5.0183072585979846e+02\t5.86349094e+01\n",
      "  192\t+5.0183072585955699e+02\t5.86351012e+01\n",
      "  193\t+5.0183072585936486e+02\t5.86349302e+01\n",
      "  194\t+5.0183072585921207e+02\t5.86350827e+01\n",
      "  195\t+5.0183072585909053e+02\t5.86349467e+01\n",
      "  196\t+5.0183072585899390e+02\t5.86350680e+01\n",
      "  197\t+5.0183072585891722e+02\t5.86349598e+01\n",
      "  198\t+5.0183072585885628e+02\t5.86350562e+01\n",
      "  199\t+5.0183072585880751e+02\t5.86349702e+01\n",
      "  200\t+5.0183072585876897e+02\t5.86350469e+01\n",
      "  201\t+5.0183072585873805e+02\t5.86349785e+01\n",
      "  202\t+5.0183072585871383e+02\t5.86350395e+01\n",
      "  203\t+5.0183072585869434e+02\t5.86349851e+01\n",
      "  204\t+5.0183072585867899e+02\t5.86350336e+01\n",
      "  205\t+5.0183072585866665e+02\t5.86349904e+01\n",
      "  206\t+5.0183072585865693e+02\t5.86350290e+01\n",
      "  207\t+5.0183072585864915e+02\t5.86349946e+01\n",
      "  208\t+5.0183072585864295e+02\t5.86350252e+01\n",
      "  209\t+5.0183072585863800e+02\t5.86349979e+01\n",
      "  210\t+5.0183072585863408e+02\t5.86350223e+01\n",
      "  211\t+5.0183072585863113e+02\t5.86350005e+01\n",
      "  212\t+5.0183072585862857e+02\t5.86350199e+01\n",
      "  213\t+5.0183072585862669e+02\t5.86350026e+01\n",
      "  214\t+5.0183072585862504e+02\t5.86350180e+01\n",
      "  215\t+5.0183072585862396e+02\t5.86350043e+01\n",
      "  216\t+5.0183072585862288e+02\t5.86350166e+01\n",
      "  217\t+5.0183072585862209e+02\t5.86350056e+01\n",
      "  218\t+5.0183072585862124e+02\t5.86350154e+01\n",
      "  219\t+5.0183072585862089e+02\t5.86350067e+01\n",
      "  220\t+5.0183072585862044e+02\t5.86350144e+01\n",
      "  221\t+5.0183072585862021e+02\t5.86350075e+01\n",
      "  222\t+5.0183072585861987e+02\t5.86350137e+01\n",
      "  223\t+5.0183072585861970e+02\t5.86350082e+01\n",
      "  224\t+5.0183072585861959e+02\t5.86350131e+01\n",
      "  225\t+5.0183072585861953e+02\t5.86350087e+01\n",
      "  226\t+5.0183072585861942e+02\t5.86350126e+01\n",
      "  227\t+5.0183072585861930e+02\t5.86350091e+01\n",
      "  228\t+5.0183072585861925e+02\t5.86350122e+01\n",
      "  229\t+5.0183072585861902e+02\t5.86350095e+01\n",
      "  230\t+5.0183072585861896e+02\t5.86350110e+01\n",
      "  231\t+5.0183072585861879e+02\t5.86350104e+01\n",
      "  232\t+5.0183072585861879e+02\t5.86350109e+01\n",
      "  233\t+5.0183072585861879e+02\t5.86350109e+01\n",
      "  234\t+5.0183072585861873e+02\t5.86350109e+01\n",
      "Terminated - min stepsize reached after 234 iterations, 2.17 seconds.\n",
      "\n"
     ]
    }
   ],
   "source": [
    "subspace, x, opt_log = solver_ospca.solve(problem)"
   ]
  },
  {
   "cell_type": "code",
   "execution_count": 14,
   "metadata": {},
   "outputs": [
    {
     "data": {
      "text/plain": [
       "[<matplotlib.lines.Line2D at 0x13f270370>]"
      ]
     },
     "execution_count": 14,
     "metadata": {},
     "output_type": "execute_result"
    },
    {
     "data": {
      "image/png": "[encoded data removed]",
      "text/plain": [
       "<Figure size 432x288 with 1 Axes>"
      ]
     },
     "metadata": {
      "needs_background": "light"
     },
     "output_type": "display_data"
    }
   ],
   "source": [
    "plt.semilogy(opt_log['iterations']['fx'])"
   ]
  },
  {
   "cell_type": "code",
   "execution_count": 16,
   "id": "6b11e64a",
   "metadata": {},
   "outputs": [
    {
     "name": "stdout",
     "output_type": "stream",
     "text": [
      "alpha:  0.48 | sparsity ratio: 0.964\n"
     ]
    }
   ],
   "source": [
    "alpha_scikit = 0.48\n",
    "transformer = SparsePCA(n_components=r, random_state=0, alpha = alpha_scikit)\n",
    "transformer.fit(A._matrix)\n",
    "x_scikit = transformer.components_.T\n",
    "print('alpha: ', alpha_scikit, '| sparsity ratio:', np.count_nonzero(x_scikit)/s)"
   ]
  },
  {
   "cell_type": "code",
   "execution_count": 17,
   "metadata": {},
   "outputs": [
    {
     "name": "stdout",
     "output_type": "stream",
     "text": [
      "scikit:       0.7935426701024764\n",
      "oblique:      0.7964221060421266\n",
      "groundtruth:  0.7952664659445978\n",
      "max non-orthogonality of x: 0.018894335732488984\n"
     ]
    },
    {
     "data": {
      "image/png": "[encoded data removed]",
      "text/plain": [
       "<Figure size 4440x2520 with 3 Axes>"
      ]
     },
     "metadata": {
      "needs_background": "light"
     },
     "output_type": "display_data"
    }
   ],
   "source": [
    "#print('naive:       ', 1 - problem.objective(x0) / (2*np.linalg.norm(A._matrix,'fro')**2))\n",
    "print('scikit:      ', 1 - problem.objective(x_scikit) / (2*np.linalg.norm(A._matrix,'fro')**2))\n",
    "print('oblique:     ', 1 - problem.objective(x) / (2*np.linalg.norm(A._matrix,'fro')**2))\n",
    "print('groundtruth: ', 1 - problem.objective(q0) / (2*np.linalg.norm(A._matrix,'fro')**2))\n",
    "if r == 1:\n",
    "    print(np.linalg.norm( (q0.T @ x) * x - q0))\n",
    "else:\n",
    "    fig, axs = plt.subplots(1,2)\n",
    "    fig.set_size_inches(18.5, 10.5)\n",
    "    fig.set_dpi(240)\n",
    "    im1=axs[0].imshow(np.abs(q0.T @ x))\n",
    "    im2=axs[1].imshow(np.abs(x_scikit.T @ q0))\n",
    "    fig.colorbar(im1, ax = axs[0], shrink=.7)\n",
    "    print('max non-orthogonality of x:', np.max(np.abs(np.eye(r,r) - x.T @ x)))"
   ]
  },
  {
   "cell_type": "code",
   "execution_count": 19,
   "id": "23098991",
   "metadata": {},
   "outputs": [
    {
     "data": {
      "text/plain": [
       "array([[ 0.        ,  0.        ,  0.        ,  0.        ,  0.        ],\n",
       "       [ 0.0133347 ,  0.        ,  0.        ,  0.00174358,  0.        ],\n",
       "       [ 0.        ,  0.        ,  0.        ,  0.        ,  0.        ],\n",
       "       ...,\n",
       "       [ 0.00644519,  0.03707615,  0.        ,  0.        ,  0.        ],\n",
       "       [ 0.        ,  0.        ,  0.        ,  0.        , -0.02041284],\n",
       "       [ 0.        ,  0.01544842,  0.03514124,  0.        ,  0.        ]])"
      ]
     },
     "execution_count": 19,
     "metadata": {},
     "output_type": "execute_result"
    }
   ],
   "source": [
    "np.ones(r)\n",
    "HTs = Sparsity(np.ones(r, dtype = int))\n",
    "_, largest_values = HTs.project(q0.T @ x)\n",
    "q0 @ np.sign(largest_values) - x"
   ]
  },
  {
   "cell_type": "code",
   "execution_count": 22,
   "id": "ac916902",
   "metadata": {},
   "outputs": [
    {
     "data": {
      "text/plain": [
       "0.19370468851935285"
      ]
     },
     "execution_count": 22,
     "metadata": {},
     "output_type": "execute_result"
    }
   ],
   "source": [
    "np.linalg.norm(q0 @ np.sign(largest_values) - x) / np.linalg.norm(q0)"
   ]
  },
  {
   "cell_type": "code",
   "execution_count": 36,
   "id": "d46aec36",
   "metadata": {},
   "outputs": [
    {
     "data": {
      "text/plain": [
       "0.9861090565222392"
      ]
     },
     "execution_count": 36,
     "metadata": {},
     "output_type": "execute_result"
    }
   ],
   "source": [
    "np.max(np.abs(q0.T @ x) - np.eye(r))"
   ]
  },
  {
   "cell_type": "code",
   "execution_count": 25,
   "id": "d037d5e1",
   "metadata": {},
   "outputs": [
    {
     "data": {
      "text/plain": [
       "array([1.        , 0.99999686, 0.99986519, 0.99999268, 0.99987106])"
      ]
     },
     "execution_count": 25,
     "metadata": {},
     "output_type": "execute_result"
    }
   ],
   "source": [
    "np.linalg.norm(q0, axis = 0)"
   ]
  },
  {
   "cell_type": "code",
   "execution_count": 31,
   "id": "ef014e58",
   "metadata": {},
   "outputs": [
    {
     "data": {
      "text/plain": [
       "array([0.15281085, 0.16590367, 0.21436102, 0.18075239, 0.24101805])"
      ]
     },
     "execution_count": 31,
     "metadata": {},
     "output_type": "execute_result"
    }
   ],
   "source": [
    "np.linalg.norm(q0 @ np.sign(largest_values) - x, axis = 0)"
   ]
  },
  {
   "cell_type": "code",
   "execution_count": 59,
   "id": "6722e4d3",
   "metadata": {},
   "outputs": [
    {
     "data": {
      "text/plain": [
       "(array([0, 1, 2, 3, 4]), array([0, 3, 2, 4, 1]))"
      ]
     },
     "execution_count": 59,
     "metadata": {},
     "output_type": "execute_result"
    }
   ],
   "source": [
    "t1"
   ]
  },
  {
   "cell_type": "code",
   "execution_count": 62,
   "id": "79188d23",
   "metadata": {},
   "outputs": [
    {
     "data": {
      "text/plain": [
       "(5, 5)"
      ]
     },
     "execution_count": 62,
     "metadata": {},
     "output_type": "execute_result"
    }
   ],
   "source": [
    "np.sign(t2).shape"
   ]
  },
  {
   "cell_type": "code",
   "execution_count": 19,
   "id": "577ea5e1",
   "metadata": {},
   "outputs": [
    {
     "data": {
      "text/plain": [
       "array([[9.88324423e-01, 5.65368460e-03, 1.07010219e-02, 3.54382139e-03,\n",
       "        1.86190134e-02],\n",
       "       [2.77350479e-03, 6.63993683e-03, 3.75857652e-03, 9.83661143e-01,\n",
       "        2.29274750e-02],\n",
       "       [2.25830643e-02, 8.90392865e-03, 9.76889879e-01, 2.50919409e-03,\n",
       "        9.75528809e-03],\n",
       "       [9.22166392e-03, 3.15423126e-03, 1.32586864e-03, 2.07599576e-02,\n",
       "        9.70947826e-01],\n",
       "       [1.17797151e-02, 9.86109057e-01, 2.97665752e-03, 9.70303438e-04,\n",
       "        1.72316594e-03]])"
      ]
     },
     "execution_count": 19,
     "metadata": {},
     "output_type": "execute_result"
    }
   ],
   "source": [
    "HTs = Sparsity(np.ones((r,1)))\n",
    "np.abs(q0.T @ x)\n"
   ]
  },
  {
   "cell_type": "code",
   "execution_count": null,
   "id": "1a6513cd",
   "metadata": {},
   "outputs": [
    {
     "data": {
      "text/plain": [
       "10.0"
      ]
     },
     "execution_count": 66,
     "metadata": {},
     "output_type": "execute_result"
    }
   ],
   "source": [
    "s/r"
   ]
  },
  {
   "cell_type": "code",
   "execution_count": null,
   "id": "fb4eb499",
   "metadata": {},
   "outputs": [],
   "source": []
  }
 ],
 "metadata": {
  "interpreter": {
   "hash": "437509238e05f23707272bb58d1490b7acc9984b8122062e2294ddf3bd1e54a4"
  },
  "kernelspec": {
   "display_name": "Python 3.9.7 64-bit ('base': conda)",
   "name": "python3"
  },
  "language_info": {
   "codemirror_mode": {
    "name": "ipython",
    "version": 3
   },
   "file_extension": ".py",
   "mimetype": "text/x-python",
   "name": "python",
   "nbconvert_exporter": "python",
   "pygments_lexer": "ipython3",
   "version": "3.9.7"
  }
 },
 "nbformat": 4,
 "nbformat_minor": 5
}
