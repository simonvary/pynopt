{
 "cells": [
  {
   "cell_type": "markdown",
   "metadata": {},
   "source": [
    "# Simple test of matrix completion methods"
   ]
  },
  {
   "cell_type": "code",
   "execution_count": 57,
   "metadata": {},
   "outputs": [],
   "source": [
    "import numpy as np\n",
    "import matplotlib.pyplot as plt\n",
    "\n",
    "from nopt.transforms import *\n",
    "from nopt.constraints import *\n",
    "from nopt.problems import *\n",
    "from nopt.solvers import *\n",
    "from nopt.tests import *\n",
    "from nopt.benchmarks import *\n",
    "from scipy.linalg import hadamard\n",
    "import scipy.sparse as sparse"
   ]
  },
  {
   "cell_type": "code",
   "execution_count": 48,
   "metadata": {},
   "outputs": [
    {
     "ename": "NameError",
     "evalue": "name 'matrix' is not defined",
     "output_type": "error",
     "traceback": [
      "\u001b[0;31m---------------------------------------------------------------------------\u001b[0m",
      "\u001b[0;31mNameError\u001b[0m                                 Traceback (most recent call last)",
      "\u001b[0;32m/var/folders/7m/q_q2llts4f10jsygyggbp9kw0000gp/T/ipykernel_5222/1257739501.py\u001b[0m in \u001b[0;36m<module>\u001b[0;34m\u001b[0m\n\u001b[1;32m     16\u001b[0m \u001b[0;31m#A2 = FastJLT(shape_input = (m,n), shape_output= (p,1))\u001b[0m\u001b[0;34m\u001b[0m\u001b[0;34m\u001b[0m\u001b[0m\n\u001b[1;32m     17\u001b[0m \u001b[0mmask\u001b[0m \u001b[0;34m=\u001b[0m \u001b[0mnp\u001b[0m\u001b[0;34m.\u001b[0m\u001b[0mrandom\u001b[0m\u001b[0;34m.\u001b[0m\u001b[0mchoice\u001b[0m\u001b[0;34m(\u001b[0m\u001b[0ma\u001b[0m\u001b[0;34m=\u001b[0m\u001b[0;34m[\u001b[0m\u001b[0;32mTrue\u001b[0m\u001b[0;34m,\u001b[0m \u001b[0;32mFalse\u001b[0m\u001b[0;34m]\u001b[0m\u001b[0;34m,\u001b[0m \u001b[0msize\u001b[0m\u001b[0;34m=\u001b[0m\u001b[0;34m(\u001b[0m\u001b[0mm\u001b[0m\u001b[0;34m,\u001b[0m \u001b[0mn\u001b[0m\u001b[0;34m)\u001b[0m\u001b[0;34m,\u001b[0m \u001b[0mp\u001b[0m\u001b[0;34m=\u001b[0m\u001b[0;34m[\u001b[0m\u001b[0mdelta\u001b[0m\u001b[0;34m,\u001b[0m \u001b[0;36m1\u001b[0m\u001b[0;34m-\u001b[0m\u001b[0mdelta\u001b[0m\u001b[0;34m]\u001b[0m\u001b[0;34m)\u001b[0m\u001b[0;34m\u001b[0m\u001b[0;34m\u001b[0m\u001b[0m\n\u001b[0;32m---> 18\u001b[0;31m \u001b[0mA3\u001b[0m \u001b[0;34m=\u001b[0m \u001b[0mEntryWise\u001b[0m\u001b[0;34m(\u001b[0m\u001b[0mmask\u001b[0m\u001b[0;34m)\u001b[0m\u001b[0;34m\u001b[0m\u001b[0;34m\u001b[0m\u001b[0m\n\u001b[0m\u001b[1;32m     19\u001b[0m \u001b[0mb\u001b[0m \u001b[0;34m=\u001b[0m \u001b[0mA1\u001b[0m\u001b[0;34m.\u001b[0m\u001b[0mmatvec\u001b[0m\u001b[0;34m(\u001b[0m\u001b[0ml0\u001b[0m\u001b[0;34m)\u001b[0m\u001b[0;34m\u001b[0m\u001b[0;34m\u001b[0m\u001b[0m\n",
      "\u001b[0;32m~/src/pynopt/nopt/transforms/entry_wise.py\u001b[0m in \u001b[0;36m__init__\u001b[0;34m(self, ind, *args, **kwargs)\u001b[0m\n\u001b[1;32m     24\u001b[0m         \u001b[0;32mif\u001b[0m \u001b[0mself\u001b[0m\u001b[0;34m.\u001b[0m\u001b[0mshape_input\u001b[0m \u001b[0;34m==\u001b[0m \u001b[0;32mNone\u001b[0m\u001b[0;34m:\u001b[0m\u001b[0;34m\u001b[0m\u001b[0;34m\u001b[0m\u001b[0m\n\u001b[1;32m     25\u001b[0m             \u001b[0mself\u001b[0m\u001b[0;34m.\u001b[0m\u001b[0mshape_input\u001b[0m \u001b[0;34m=\u001b[0m \u001b[0;34m(\u001b[0m\u001b[0mmatrix\u001b[0m\u001b[0;34m.\u001b[0m\u001b[0mshape\u001b[0m\u001b[0;34m[\u001b[0m\u001b[0;36m0\u001b[0m\u001b[0;34m]\u001b[0m\u001b[0;34m,\u001b[0m \u001b[0;36m1\u001b[0m\u001b[0;34m)\u001b[0m\u001b[0;34m\u001b[0m\u001b[0;34m\u001b[0m\u001b[0m\n\u001b[0;32m---> 26\u001b[0;31m         \u001b[0;32mif\u001b[0m \u001b[0mself\u001b[0m\u001b[0;34m.\u001b[0m\u001b[0mshape_output\u001b[0m \u001b[0;34m==\u001b[0m \u001b[0;32mNone\u001b[0m\u001b[0;34m:\u001b[0m\u001b[0;34m\u001b[0m\u001b[0;34m\u001b[0m\u001b[0m\n\u001b[0m\u001b[1;32m     27\u001b[0m             \u001b[0mself\u001b[0m\u001b[0;34m.\u001b[0m\u001b[0mshape_output\u001b[0m\u001b[0;34m=\u001b[0m \u001b[0;34m(\u001b[0m\u001b[0mmatrix\u001b[0m\u001b[0;34m.\u001b[0m\u001b[0mshape\u001b[0m\u001b[0;34m[\u001b[0m\u001b[0;36m1\u001b[0m\u001b[0;34m]\u001b[0m\u001b[0;34m,\u001b[0m \u001b[0;36m1\u001b[0m\u001b[0;34m)\u001b[0m\u001b[0;34m\u001b[0m\u001b[0;34m\u001b[0m\u001b[0m\n\u001b[1;32m     28\u001b[0m \u001b[0;34m\u001b[0m\u001b[0m\n",
      "\u001b[0;31mNameError\u001b[0m: name 'matrix' is not defined"
     ]
    }
   ],
   "source": [
    "m = 100\n",
    "n = 100\n",
    "\n",
    "rho_r = 0.5\n",
    "delta = 0.5\n",
    "\n",
    "p = round(delta*m*n)\n",
    "\n",
    "r = round(.5*( m+n - np.sqrt( (m+n)**2 - 4*rho_r*p ) ))\n",
    "\n",
    "l0, _ = GenerateLSMat1((m,n), r, 0, 1)\n",
    "HTr = FixedRank(r)\n",
    "\n",
    "Amat = np.random.normal(0,1, (p,m*n)) / np.sqrt(m*n)\n",
    "A1 = LinearMatrix(Amat, shape_input = (m,n))\n",
    "#A2 = FastJLT(shape_input = (m,n), shape_output= (p,1))\n",
    "mask = np.random.choice(a=[True, False], size=(m, n), p=[delta, 1-delta])\n",
    "A3 = EntryWise(mask)\n",
    "b = A1.matvec(l0)"
   ]
  },
  {
   "cell_type": "code",
   "execution_count": 69,
   "metadata": {},
   "outputs": [],
   "source": [
    "subsample = sparse.identity(m*n, dtype='float')"
   ]
  },
  {
   "cell_type": "code",
   "execution_count": 70,
   "metadata": {},
   "outputs": [
    {
     "ename": "TypeError",
     "evalue": "'dia_matrix' object is not subscriptable",
     "output_type": "error",
     "traceback": [
      "\u001b[0;31m---------------------------------------------------------------------------\u001b[0m",
      "\u001b[0;31mTypeError\u001b[0m                                 Traceback (most recent call last)",
      "\u001b[0;32m/var/folders/7m/q_q2llts4f10jsygyggbp9kw0000gp/T/ipykernel_5222/186911323.py\u001b[0m in \u001b[0;36m<module>\u001b[0;34m\u001b[0m\n\u001b[0;32m----> 1\u001b[0;31m \u001b[0msubsample\u001b[0m\u001b[0;34m[\u001b[0m\u001b[0mmask\u001b[0m\u001b[0;34m,\u001b[0m\u001b[0;34m]\u001b[0m\u001b[0;34m.\u001b[0m\u001b[0mshape\u001b[0m\u001b[0;34m\u001b[0m\u001b[0;34m\u001b[0m\u001b[0m\n\u001b[0m",
      "\u001b[0;31mTypeError\u001b[0m: 'dia_matrix' object is not subscriptable"
     ]
    }
   ],
   "source": [
    "subsample[mask,]"
   ]
  },
  {
   "cell_type": "code",
   "execution_count": 94,
   "metadata": {},
   "outputs": [
    {
     "ename": "AttributeError",
     "evalue": "'list' object has no attribute 'shape'",
     "output_type": "error",
     "traceback": [
      "\u001b[0;31m---------------------------------------------------------------------------\u001b[0m",
      "\u001b[0;31mAttributeError\u001b[0m                            Traceback (most recent call last)",
      "\u001b[0;32m/var/folders/7m/q_q2llts4f10jsygyggbp9kw0000gp/T/ipykernel_5222/635105706.py\u001b[0m in \u001b[0;36m<module>\u001b[0;34m\u001b[0m\n\u001b[0;32m----> 1\u001b[0;31m \u001b[0mmask\u001b[0m\u001b[0;34m.\u001b[0m\u001b[0mreshape\u001b[0m\u001b[0;34m(\u001b[0m\u001b[0;36m1\u001b[0m\u001b[0;34m,\u001b[0m\u001b[0;34m-\u001b[0m\u001b[0;36m1\u001b[0m\u001b[0;34m)\u001b[0m\u001b[0;34m.\u001b[0m\u001b[0mastype\u001b[0m\u001b[0;34m(\u001b[0m\u001b[0;34m'float'\u001b[0m\u001b[0;34m)\u001b[0m\u001b[0;34m.\u001b[0m\u001b[0mtolist\u001b[0m\u001b[0;34m(\u001b[0m\u001b[0;34m)\u001b[0m\u001b[0;34m.\u001b[0m\u001b[0mshape\u001b[0m\u001b[0;34m\u001b[0m\u001b[0;34m\u001b[0m\u001b[0m\n\u001b[0m",
      "\u001b[0;31mAttributeError\u001b[0m: 'list' object has no attribute 'shape'"
     ]
    }
   ],
   "source": [
    "mask.reshape(1,-1).astype('float').tolist()"
   ]
  },
  {
   "cell_type": "code",
   "execution_count": 29,
   "metadata": {},
   "outputs": [],
   "source": [
    "problem = LinearProblem(A1, b, HTr)"
   ]
  },
  {
   "cell_type": "code",
   "execution_count": 30,
   "metadata": {},
   "outputs": [
    {
     "name": "stdout",
     "output_type": "stream",
     "text": [
      " iter\t\t   obj. value\t    grad. norm\t     xdist\n",
      "    1\t+6.4956212689144277e+03\t2.58448947e+01\n",
      "    2\t+3.5066305212340280e+03\t2.31502500e+01\n",
      "    3\t+1.9181503016739994e+03\t1.47037154e+01\n",
      "    4\t+1.1167648166214744e+03\t1.08306345e+01\n",
      "    5\t+7.4877019115897997e+02\t8.55479233e+00\n",
      "    6\t+5.1329687521328435e+02\t6.89615515e+00\n",
      "    7\t+3.6561658770751558e+02\t5.81911975e+00\n",
      "    8\t+2.6434826429127651e+02\t4.87500395e+00\n",
      "    9\t+1.9614410591959847e+02\t4.17578137e+00\n",
      "   10\t+1.4673536481371610e+02\t3.59762566e+00\n",
      "   11\t+1.1191836974623858e+02\t3.10463447e+00\n",
      "   12\t+8.5827219004060140e+01\t2.71495877e+00\n",
      "   13\t+6.6825142023791543e+01\t2.37356411e+00\n",
      "   14\t+5.2257141701644180e+01\t2.08829034e+00\n",
      "   15\t+4.1357221997264027e+01\t1.85135106e+00\n",
      "   16\t+3.2856609273126608e+01\t1.63312235e+00\n",
      "   17\t+2.6349565478259841e+01\t1.46555806e+00\n",
      "   18\t+2.1205253951169343e+01\t1.29517255e+00\n",
      "   19\t+1.7190817927076079e+01\t1.17494039e+00\n",
      "   20\t+1.3981543332816360e+01\t1.03930884e+00\n",
      "   21\t+1.1436432518703064e+01\t9.52955302e-01\n",
      "   22\t+9.3828741049303659e+00\t8.42437565e-01\n",
      "   23\t+7.7322663416281294e+00\t7.80823290e-01\n",
      "   24\t+6.3900494895798019e+00\t6.89046472e-01\n",
      "   25\t+5.2990492999070220e+00\t6.45091980e-01\n",
      "   26\t+4.4059952072490365e+00\t5.68382367e-01\n",
      "   27\t+3.6732590404275278e+00\t5.36456359e-01\n",
      "   28\t+3.0700428435033862e+00\t4.72403883e-01\n",
      "   29\t+2.5712044238072158e+00\t4.48487976e-01\n",
      "   30\t+2.1585043898293033e+00\t3.94949272e-01\n",
      "   31\t+1.8149404699421812e+00\t3.76604452e-01\n",
      "   32\t+1.5294648868176941e+00\t3.31680715e-01\n",
      "   33\t+1.2904674167796912e+00\t3.17431104e-01\n",
      "   34\t+1.0911126346537865e+00\t2.79562998e-01\n",
      "   35\t+9.2340845430981888e-01\t2.68420620e-01\n",
      "   36\t+7.8303920763788015e-01\t2.36363824e-01\n",
      "   37\t+6.6446656435855722e-01\t2.27614811e-01\n",
      "   38\t+5.6491221476895581e-01\t2.00379865e-01\n",
      "   39\t+4.8051678085937416e-01\t1.93486782e-01\n",
      "   40\t+4.0945769756739275e-01\t1.70285513e-01\n",
      "   41\t+3.4903304063480611e-01\t1.64831886e-01\n",
      "   42\t+2.9802521826615047e-01\t1.45067570e-01\n",
      "   43\t+2.5453533314053606e-01\t1.40690125e-01\n",
      "   44\t+2.1773548859863615e-01\t1.24025784e-01\n",
      "   45\t+1.8628692826031371e-01\t1.20289711e-01\n",
      "   46\t+1.5961710691742900e-01\t1.06264236e-01\n",
      "   47\t+1.3677977140262904e-01\t1.03005322e-01\n",
      "   48\t+1.1737252902032849e-01\t9.11694730e-02\n",
      "   49\t+1.0072521730104277e-01\t8.83267937e-02\n",
      "   50\t+8.6550705730670183e-02\t7.83111130e-02\n",
      "   51\t+7.4373656509183927e-02\t7.58353476e-02\n",
      "   52\t+6.3986283269642341e-02\t6.73380882e-02\n",
      "   53\t+5.5051086753984561e-02\t6.51853450e-02\n",
      "   54\t+4.7415755825634419e-02\t5.79592228e-02\n",
      "   55\t+4.0840516538211608e-02\t5.60901336e-02\n",
      "   56\t+3.5212426055360277e-02\t4.99315794e-02\n",
      "   57\t+3.0361108510213838e-02\t4.83109656e-02\n",
      "   58\t+2.6201953982801274e-02\t4.30516568e-02\n",
      "   59\t+2.2613926809953572e-02\t4.16482408e-02\n",
      "   60\t+1.9533075607196304e-02\t3.71484346e-02\n",
      "   61\t+1.6873471200645224e-02\t3.59345291e-02\n",
      "   62\t+1.4586405724887126e-02\t3.20777867e-02\n",
      "   63\t+1.2610938138774558e-02\t3.10289684e-02\n",
      "   64\t+1.0909729747202394e-02\t2.77179535e-02\n",
      "   65\t+9.4396251992823546e-03\t2.68127347e-02\n",
      "   66\t+8.1718462719303324e-03\t2.39658469e-02\n",
      "   67\t+7.0758916493652560e-03\t2.31853559e-02\n",
      "   68\t+6.1294823985994958e-03\t2.07340241e-02\n",
      "   69\t+5.3111129386181613e-03\t2.00616959e-02\n",
      "   70\t+4.6034740238238810e-03\t1.79482082e-02\n",
      "   71\t+3.9914473421358270e-03\t1.73694741e-02\n",
      "   72\t+3.4615467484643741e-03\t1.55453031e-02\n",
      "   73\t+3.0031816207854180e-03\t1.50472157e-02\n",
      "   74\t+2.6058217426274889e-03\t1.34720921e-02\n",
      "   75\t+2.2620792173217927e-03\t1.30425520e-02\n",
      "   76\t+1.9637187833372659e-03\t1.16855490e-02\n",
      "   77\t+1.7056121112579321e-03\t1.13108050e-02\n",
      "   78\t+1.4813116984230613e-03\t1.01475633e-02\n",
      "   79\t+1.2872783183389836e-03\t9.81380599e-03\n",
      "   80\t+1.1184608070712392e-03\t8.81831123e-03\n",
      "   81\t+9.7243328418061402e-04\t8.51890486e-03\n",
      "   82\t+8.4523740589073984e-04\t7.66688103e-03\n",
      "   83\t+7.3522381405599396e-04\t7.39813933e-03\n",
      "   84\t+6.3929069823243166e-04\t6.66855394e-03\n",
      "   85\t+5.5632743056898966e-04\t6.42753500e-03\n",
      "   86\t+4.8390419812328336e-04\t5.80241720e-03\n",
      "   87\t+4.2128179775703228e-04\t5.58651507e-03\n",
      "   88\t+3.6655793043017214e-04\t5.05055831e-03\n",
      "   89\t+3.1924758436815742e-04\t4.85740143e-03\n",
      "   90\t+2.7786263160248096e-04\t4.39757772e-03\n",
      "   91\t+2.4209050183266026e-04\t4.22499226e-03\n",
      "   92\t+2.1076820007786217e-04\t3.83021273e-03\n",
      "   93\t+1.8369891696879101e-04\t3.67620372e-03\n",
      "   94\t+1.5997478108195935e-04\t3.33702741e-03\n",
      "   95\t+1.3947571027790893e-04\t3.19976557e-03\n",
      "   96\t+1.2149388227893369e-04\t2.90815154e-03\n",
      "   97\t+1.0595927587002448e-04\t2.78596226e-03\n",
      "   98\t+9.2320787978009526e-05\t2.53505914e-03\n",
      "   99\t+8.0540414065964050e-05\t2.42641234e-03\n",
      "  100\t+7.0189688634471429e-05\t2.21037974e-03\n",
      "  101\t+6.1250553235324710e-05\t2.11388023e-03\n",
      "  102\t+5.3390387541551410e-05\t1.92773723e-03\n",
      "  103\t+4.6603116941712655e-05\t1.84211547e-03\n",
      "  104\t+4.0630921611675114e-05\t1.68161199e-03\n",
      "  105\t+3.5474549369722334e-05\t1.60571527e-03\n",
      "  106\t+3.0934468616806627e-05\t1.46722285e-03\n",
      "  107\t+2.7014977788995224e-05\t1.40000680e-03\n",
      "  108\t+2.3561894043218568e-05\t1.28042574e-03\n",
      "  109\t+2.0581053449091258e-05\t1.22094625e-03\n",
      "  110\t+1.7953496909915497e-05\t1.11762682e-03\n",
      "  111\t+1.5685410875888308e-05\t1.06503232e-03\n",
      "  112\t+1.3685149865192217e-05\t9.75707716e-04\n",
      "  113\t+1.1958594668845904e-05\t9.29231832e-04\n",
      "  114\t+1.0435244127389749e-05\t8.51961263e-04\n",
      "  115\t+9.1203505632614887e-06\t8.10915867e-04\n",
      "  116\t+7.9597540757487068e-06\t7.44036186e-04\n",
      "  117\t+6.9579576938499500e-06\t7.07804774e-04\n",
      "  118\t+6.0734101582932504e-06\t6.49889418e-04\n",
      "  119\t+5.3098608462103067e-06\t6.17920862e-04\n",
      "  120\t+4.6354717044911544e-06\t5.67744984e-04\n",
      "  121\t+4.0532960460012571e-06\t5.39547630e-04\n",
      "  122\t+3.5389670885430112e-06\t4.96058509e-04\n",
      "  123\t+3.0949278360992502e-06\t4.71194633e-04\n",
      "  124\t+2.7025499545213781e-06\t4.33486561e-04\n",
      "  125\t+2.3637599555983735e-06\t4.11567165e-04\n",
      "  126\t+2.0643309618935218e-06\t3.78860136e-04\n",
      "  127\t+1.8057635987225655e-06\t3.59540104e-04\n",
      "  128\t+1.5772025954032075e-06\t3.31161720e-04\n",
      "  129\t+1.3798043866798362e-06\t3.14135317e-04\n",
      "  130\t+1.2052933111744230e-06\t2.89505420e-04\n",
      "  131\t+1.0545521001357547e-06\t2.74502141e-04\n",
      "  132\t+9.2127654554097169e-07\t2.53119740e-04\n",
      "  133\t+8.0613463542977897e-07\t2.39900503e-04\n",
      "  134\t+7.0432729059483563e-07\t2.21332654e-04\n",
      "  135\t+6.1635594122726496e-07\t2.09686322e-04\n",
      "  136\t+5.3856954108514583e-07\t1.93558637e-04\n",
      "  137\t+4.7134162954964806e-07\t1.83298875e-04\n",
      "  138\t+4.1189607662502109e-07\t1.69287417e-04\n",
      "  139\t+3.6050910203740997e-07\t1.60249851e-04\n",
      "  140\t+3.1507084047454434e-07\t1.48074202e-04\n",
      "  141\t+2.7578406227595578e-07\t1.40113874e-04\n",
      "  142\t+2.4104592883699058e-07\t1.29531185e-04\n",
      "  143\t+2.1100420010544601e-07\t1.22520284e-04\n",
      "  144\t+1.8444165075879883e-07\t1.13320167e-04\n",
      "  145\t+1.6146513973868883e-07\t1.07146012e-04\n",
      "  146\t+1.4115055960505361e-07\t9.91461461e-05\n",
      "  147\t+1.2357457317561013e-07\t9.37093955e-05\n",
      "  148\t+1.0803577891867360e-07\t8.67517365e-05\n",
      "  149\t+9.4588702202250707e-08\t8.19648101e-05\n",
      "  150\t+8.2701082242386062e-08\t7.59123262e-05\n",
      "  151\t+7.2411329422025896e-08\t7.16980098e-05\n",
      "  152\t+6.3315598627149263e-08\t6.64318593e-05\n",
      "  153\t+5.5440654787267827e-08\t6.27220763e-05\n",
      "  154\t+4.8480121514774139e-08\t5.81391698e-05\n",
      "  155\t+4.2452412901177782e-08\t5.48738985e-05\n",
      "  156\t+3.7125115151444406e-08\t5.08847919e-05\n",
      "  157\t+3.2510703848531051e-08\t4.80111126e-05\n",
      "  158\t+2.8432880231650262e-08\t4.45381835e-05\n",
      "  159\t+2.4899935675563995e-08\t4.20094393e-05\n",
      "  160\t+2.1778139637762340e-08\t3.89853099e-05\n",
      "  161\t+1.9072866092897420e-08\t3.67603670e-05\n",
      "  162\t+1.6682673012508191e-08\t3.41265391e-05\n",
      "  163\t+1.4610924970006527e-08\t3.21691357e-05\n",
      "  164\t+1.2780669587701594e-08\t2.98748092e-05\n",
      "  165\t+1.1193907648762790e-08\t2.81529808e-05\n",
      "  166\t+9.7922606777972908e-09\t2.61540303e-05\n",
      "Terminated - target objective reached after 6.54 seconds.\n",
      "\n"
     ]
    }
   ],
   "source": [
    "solver = NIHT(logverbosity = 2)\n",
    "x, opt_log = solver.solve(problem)"
   ]
  },
  {
   "cell_type": "code",
   "execution_count": 130,
   "metadata": {},
   "outputs": [
    {
     "data": {
      "text/plain": [
       "3.2907307074510395"
      ]
     },
     "execution_count": 130,
     "metadata": {},
     "output_type": "execute_result"
    }
   ],
   "source": [
    "np.linalg.norm(x - l0, 'fro')/ np.linalg.norm(l0, 2)"
   ]
  },
  {
   "cell_type": "code",
   "execution_count": 131,
   "metadata": {},
   "outputs": [
    {
     "data": {
      "text/plain": [
       "[<matplotlib.lines.Line2D at 0x161dade50>]"
      ]
     },
     "execution_count": 131,
     "metadata": {},
     "output_type": "execute_result"
    },
    {
     "data": {
      "image/png": "[encoded data removed]",
      "text/plain": [
       "<Figure size 432x288 with 1 Axes>"
      ]
     },
     "metadata": {
      "needs_background": "light"
     },
     "output_type": "display_data"
    }
   ],
   "source": [
    "plt.semilogy(opt_log['iterations']['fx'] / np.linalg.norm(b))"
   ]
  },
  {
   "cell_type": "code",
   "execution_count": null,
   "metadata": {},
   "outputs": [],
   "source": []
  }
 ],
 "metadata": {
  "interpreter": {
   "hash": "437509238e05f23707272bb58d1490b7acc9984b8122062e2294ddf3bd1e54a4"
  },
  "kernelspec": {
   "display_name": "Python 3.9.7 64-bit ('base': conda)",
   "language": "python",
   "name": "python3"
  },
  "language_info": {
   "codemirror_mode": {
    "name": "ipython",
    "version": 3
   },
   "file_extension": ".py",
   "mimetype": "text/x-python",
   "name": "python",
   "nbconvert_exporter": "python",
   "pygments_lexer": "ipython3",
   "version": "3.8.5"
  },
  "orig_nbformat": 4
 },
 "nbformat": 4,
 "nbformat_minor": 2
}
