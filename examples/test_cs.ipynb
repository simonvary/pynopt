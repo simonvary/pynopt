{
 "cells": [
  {
   "cell_type": "markdown",
   "metadata": {},
   "source": [
    "# Simple test of compressed sensing methods"
   ]
  },
  {
   "cell_type": "code",
   "execution_count": 1,
   "metadata": {},
   "outputs": [],
   "source": [
    "import sys\n",
    "sys.path.append(\"../\")\n",
    "\n",
    "import numpy as np\n",
    "import matplotlib.pyplot as plt\n",
    "\n",
    "from nopt.transforms import *\n",
    "from nopt.constraints import *\n",
    "from nopt.problems import *\n",
    "from nopt.solvers import *\n",
    "from nopt.tests import *\n",
    "\n",
    "import scipy"
   ]
  },
  {
   "cell_type": "code",
   "execution_count": 2,
   "metadata": {},
   "outputs": [],
   "source": [
    "m = 500\n",
    "n = 1000\n",
    "Amat = np.random.normal(0,1, (m,n))\n",
    "A = scipy.sparse.linalg.aslinearoperator(Amat)\n",
    "k = 100\n",
    "r = 20\n",
    "HTs = Sparsity(k)\n",
    "HTr = FixedRank(r)"
   ]
  },
  {
   "cell_type": "code",
   "execution_count": 3,
   "metadata": {},
   "outputs": [],
   "source": [
    "x_true = np.random.normal(0,1, (n, 1)) / np.sqrt(n)\n",
    "sub, x_true = HTs.project(x_true)\n",
    "b = A.matvec(x_true)\n",
    "problem = LinearProblem(A, b, HTs, x_true = x_true)"
   ]
  },
  {
   "cell_type": "code",
   "execution_count": 4,
   "metadata": {},
   "outputs": [
    {
     "name": "stdout",
     "output_type": "stream",
     "text": [
      " iter\t\t   obj. value\t    grad. norm\t     xdist\n",
      "    1\t+2.3465256759401821e+07\t5.53076518e+05\n",
      "    2\t+1.2500774478690611e+07\t3.16274130e+05\n",
      "    3\t+7.4536892157307826e+06\t2.33182055e+05\n",
      "    4\t+4.5127622293722713e+06\t1.84056847e+05\n",
      "    5\t+3.0740119334957073e+06\t1.43022535e+05\n",
      "    6\t+1.8685487761004006e+06\t1.18862148e+05\n",
      "    7\t+1.3466850103036298e+06\t9.26238976e+04\n",
      "    8\t+7.8957465625610854e+05\t7.87422002e+04\n",
      "    9\t+5.7354560556962376e+05\t6.02143362e+04\n",
      "   10\t+3.3046277772567450e+05\t5.14489187e+04\n",
      "   11\t+2.4453089852133498e+05\t3.89407686e+04\n",
      "   12\t+1.3998015521074762e+05\t3.36266497e+04\n",
      "   13\t+1.0440699198771855e+05\t2.53453374e+04\n",
      "   14\t+5.9964296659540509e+04\t2.19700091e+04\n",
      "   15\t+4.4317132064211211e+04\t1.65928490e+04\n",
      "   16\t+2.5458005567467088e+04\t1.43341985e+04\n",
      "   17\t+1.9048529280769893e+04\t1.07948676e+04\n",
      "   18\t+1.0856594959271753e+04\t9.41109146e+03\n",
      "   19\t+8.2469794363997935e+03\t7.03687461e+03\n",
      "   20\t+4.6315965042195003e+03\t6.19378813e+03\n",
      "   21\t+3.6848483059221567e+03\t4.58755746e+03\n",
      "   22\t+2.0125175135252941e+03\t4.14390805e+03\n",
      "   23\t+1.6345738958509403e+03\t3.02348943e+03\n",
      "   24\t+8.7296713754549069e+02\t2.76128024e+03\n",
      "   25\t+7.0301012544594130e+02\t1.98395349e+03\n",
      "   26\t+3.6108701637844359e+02\t1.79986730e+03\n",
      "   27\t+2.8451593451176331e+02\t1.25596168e+03\n",
      "   28\t+1.4166821624431313e+02\t1.12193553e+03\n",
      "   29\t+9.5356741673671593e+01\t7.54754625e+02\n",
      "   30\t+5.0867168921271379e+01\t6.07780591e+02\n",
      "   31\t+3.5781189503413955e+01\t4.06991764e+02\n",
      "   32\t+2.5092216635138172e+01\t3.18576986e+02\n",
      "   33\t+1.9968947533062856e+01\t2.46619799e+02\n",
      "   34\t+1.6076550385782117e+01\t2.07442551e+02\n",
      "   35\t+1.3538836464329487e+01\t1.81697037e+02\n",
      "   36\t+1.1574506039155265e+01\t1.63951139e+02\n",
      "   37\t+1.0001092488677013e+01\t1.54187650e+02\n",
      "   38\t+7.8924138378869060e+00\t1.41612001e+02\n",
      "   39\t+6.5408846558388394e+00\t1.30593492e+02\n",
      "   40\t+5.2863654370124129e+00\t1.17657968e+02\n",
      "   41\t+3.6063080740864883e+00\t1.09692724e+02\n",
      "   42\t+1.8195423543511613e+00\t9.11779764e+01\n",
      "   43\t+6.8001368224995418e-01\t6.51205388e+01\n",
      "   44\t+2.7014772411057103e-01\t4.29696352e+01\n",
      "   45\t+1.1598649013172410e-01\t2.66143489e+01\n",
      "   46\t+5.1272927918198138e-02\t1.74759230e+01\n",
      "   47\t+2.3077951468765297e-02\t1.15827419e+01\n",
      "   48\t+1.0525059354320399e-02\t7.75447570e+00\n",
      "   49\t+4.8506159026691226e-03\t5.24686861e+00\n",
      "   50\t+2.2546859860735811e-03\t3.54196919e+00\n",
      "   51\t+1.0557351422095357e-03\t2.42817970e+00\n",
      "   52\t+4.9746558172751609e-04\t1.64669241e+00\n",
      "   53\t+2.3572854448007161e-04\t1.14024653e+00\n",
      "   54\t+1.1226158817709937e-04\t7.75439218e-01\n",
      "   55\t+5.3707043764305377e-05\t5.41395068e-01\n",
      "   56\t+2.5800146786938707e-05\t3.68901084e-01\n",
      "   57\t+1.2441376378682820e-05\t2.59357541e-01\n",
      "   58\t+6.0203453722743231e-06\t1.76996187e-01\n",
      "   59\t+2.9226287248987394e-06\t1.25174058e-01\n",
      "   60\t+1.4229865055001558e-06\t8.55380635e-02\n",
      "   61\t+6.9472405287109673e-07\t6.07951991e-02\n",
      "   62\t+3.4001714570477532e-07\t4.15949695e-02\n",
      "   63\t+1.6679693493622888e-07\t2.96862539e-02\n",
      "   64\t+8.1993693800346633e-08\t2.03334743e-02\n",
      "   65\t+4.0384076708484083e-08\t1.45619689e-02\n",
      "   66\t+1.9924894853012574e-08\t9.98438838e-03\n",
      "   67\t+9.8464492102413565e-09\t7.17059825e-03\n",
      "Terminated - target objective reached after 1.17 seconds.\n",
      "\n"
     ]
    }
   ],
   "source": [
    "solver = NIHT(logverbosity = 2)\n",
    "x, opt_log = solver.solve(problem)"
   ]
  },
  {
   "cell_type": "code",
   "execution_count": 5,
   "metadata": {},
   "outputs": [
    {
     "data": {
      "text/plain": [
       "1.5075083274398355e-05"
      ]
     },
     "execution_count": 5,
     "metadata": {},
     "output_type": "execute_result"
    }
   ],
   "source": [
    "np.linalg.norm(x - x_true, 2)/ np.linalg.norm(x_true, 2)"
   ]
  },
  {
   "cell_type": "code",
   "execution_count": 6,
   "metadata": {},
   "outputs": [
    {
     "data": {
      "text/plain": [
       "[<matplotlib.lines.Line2D at 0x7f7336af2d60>]"
      ]
     },
     "execution_count": 6,
     "metadata": {},
     "output_type": "execute_result"
    },
    {
     "data": {
      "image/png": "[encoded data removed]",
      "text/plain": [
       "<Figure size 432x288 with 1 Axes>"
      ]
     },
     "metadata": {
      "needs_background": "light"
     },
     "output_type": "display_data"
    }
   ],
   "source": [
    "plt.semilogy(opt_log['iterations']['fx'] / np.linalg.norm(b))"
   ]
  },
  {
   "cell_type": "code",
   "execution_count": null,
   "metadata": {},
   "outputs": [],
   "source": []
  }
 ],
 "metadata": {
  "kernelspec": {
   "display_name": "Python 3.8.13 ('pynopt')",
   "language": "python",
   "name": "python3"
  },
  "language_info": {
   "codemirror_mode": {
    "name": "ipython",
    "version": 3
   },
   "file_extension": ".py",
   "mimetype": "text/x-python",
   "name": "python",
   "nbconvert_exporter": "python",
   "pygments_lexer": "ipython3",
   "version": "3.8.13"
  },
  "orig_nbformat": 4,
  "vscode": {
   "interpreter": {
    "hash": "1e05a12598df55d3aad50ba1499fae3c0901cb0a2d2a7fd07b3f224c1b5b1f32"
   }
  }
 },
 "nbformat": 4,
 "nbformat_minor": 2
}
