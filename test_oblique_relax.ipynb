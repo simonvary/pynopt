{
 "cells": [
  {
   "cell_type": "code",
   "execution_count": 1,
   "metadata": {},
   "outputs": [],
   "source": [
    "import numpy as np\n",
    "import matplotlib.pyplot as plt\n",
    "\n",
    "from nopt.transforms.linear_transform import LinearMatrix\n",
    "from nopt.transforms.fastjlt import FastJLT\n",
    "from nopt.constraints.sparse import *\n",
    "from nopt.constraints.rank import *\n",
    "from nopt.constraints.sparse_oblique import *\n",
    "from nopt.constraints.oblique import *\n",
    "from nopt.problems.linear_problem import *\n",
    "from nopt.problems.linear_problem_sum import *\n",
    "from nopt.problems.sparse_principal_subspace import *\n",
    "from nopt.solvers.niht import *\n",
    "from nopt.solvers.naht import *\n",
    "from nopt.solvers.oblique_spca import *\n",
    "from nopt.tests.generate_lsmat1 import *\n",
    "from nopt.tests.generate_qsmat1 import *"
   ]
  },
  {
   "cell_type": "code",
   "execution_count": 9,
   "metadata": {},
   "outputs": [
    {
     "name": "stdout",
     "output_type": "stream",
     "text": [
      "447\n",
      "0.0894\n"
     ]
    }
   ],
   "source": [
    "m = 500\n",
    "n = 500\n",
    "r = 10\n",
    "c = 2\n",
    "alpha = 0.15\n",
    "s = round(c*np.sqrt(n)*r) #round(alpha*n*r)\n",
    "N = 400; # number of samples\n",
    "\n",
    "#s = round(rho_s*n*r)\n",
    "alpha = s/(n*r)\n",
    "print(s)\n",
    "print(alpha)\n",
    "#r = round(.5*( m+n - np.sqrt( (m+n)**2 - 4*rho_r*p ) ))"
   ]
  },
  {
   "cell_type": "code",
   "execution_count": 10,
   "metadata": {},
   "outputs": [
    {
     "name": "stdout",
     "output_type": "stream",
     "text": [
      "1.673361734564404\n",
      "0.020954188237097368\n"
     ]
    }
   ],
   "source": [
    "subspace0, q0 = GenerateQSMat1((n,r), s)\n",
    "\n",
    "theta = 5; # Signal strength\n",
    "samples = np.random.multivariate_normal(np.zeros((n,)), np.eye(n) + theta* q0@q0.T, N).T\n",
    "#covariance matrix = samples @ samples.T / N\n",
    "A = LinearMatrix(samples.T / np.sqrt(N))\n",
    "A = LinearMatrix(samples @ samples.T / N)"
   ]
  },
  {
   "cell_type": "code",
   "execution_count": 24,
   "metadata": {},
   "outputs": [
    {
     "name": "stdout",
     "output_type": "stream",
     "text": [
      "500.0\n"
     ]
    },
    {
     "data": {
      "text/plain": [
       "581.9028341876168"
      ]
     },
     "execution_count": 24,
     "metadata": {},
     "output_type": "execute_result"
    }
   ],
   "source": [
    "lam = 10*n/r\n",
    "print(lam)\n",
    "problem = SparsePrincipalSubspace(A, rank = r, sparsity=s)\n",
    "problem.objective(q0)"
   ]
  },
  {
   "cell_type": "code",
   "execution_count": 25,
   "metadata": {},
   "outputs": [],
   "source": [
    "HTr = Rank(r)\n",
    "subspaces,_ = HTr.project(A._matrix)\n",
    "HTso = SparseOblique(s)\n",
    "_, x0 = HTso.project_quasi(subspaces[1])"
   ]
  },
  {
   "cell_type": "code",
   "execution_count": 26,
   "metadata": {},
   "outputs": [
    {
     "name": "stdout",
     "output_type": "stream",
     "text": [
      " iter\t\t   obj. value\t    grad. norm\n",
      "    1\t+6.4385166392103417e+02\t1.50785419e+02\n",
      "    2\t+6.4355049214148869e+02\t9.59713448e+01\n",
      "    3\t+6.3692025568868587e+02\t1.16904811e+02\n",
      "    4\t+6.3559170319615566e+02\t8.58928841e+01\n",
      "    5\t+6.3450164029680388e+02\t8.46511675e+01\n",
      "    6\t+6.3341493896179929e+02\t8.04178395e+01\n",
      "    7\t+6.3262270712351517e+02\t7.83798463e+01\n",
      "    8\t+6.3187340084405218e+02\t7.65387821e+01\n",
      "    9\t+6.3132963139670801e+02\t7.59703063e+01\n",
      "   10\t+6.3079219792388494e+02\t7.76162583e+01\n",
      "   11\t+6.3074519190984597e+02\t7.86665811e+01\n",
      "   12\t+6.2905417964476749e+02\t8.23551291e+01\n",
      "   13\t+6.2418971214940655e+02\t6.68288928e+01\n",
      "   14\t+6.1132657971322317e+02\t1.21606284e+02\n",
      "   15\t+6.0879793404273175e+02\t9.11937377e+01\n",
      "   16\t+6.0776344900494860e+02\t8.51935717e+01\n",
      "   17\t+6.0698719854152921e+02\t8.34051940e+01\n",
      "   18\t+6.0643391538268941e+02\t8.01055301e+01\n",
      "   19\t+6.0597028931532873e+02\t8.04686052e+01\n",
      "   20\t+6.0562140611165478e+02\t7.77297983e+01\n",
      "   21\t+6.0531313859125714e+02\t7.86572976e+01\n",
      "   22\t+6.0508182441089718e+02\t7.63335969e+01\n",
      "   23\t+6.0486590401065143e+02\t7.75270648e+01\n",
      "   24\t+6.0470840206272226e+02\t7.55221183e+01\n",
      "   25\t+6.0442201148726667e+02\t7.68224738e+01\n",
      "   26\t+6.0407971642483892e+02\t7.46759888e+01\n",
      "   27\t+6.0373720992848337e+02\t7.46080044e+01\n",
      "   28\t+6.0373565892495435e+02\t7.25553584e+01\n",
      "   29\t+6.0290406349094030e+02\t9.65283478e+01\n",
      "   30\t+6.0215943577487155e+02\t9.22480404e+01\n",
      "   31\t+6.0169104893563519e+02\t9.20159152e+01\n",
      "   32\t+6.0117455498882066e+02\t8.87224241e+01\n",
      "   33\t+6.0086714385319988e+02\t8.83892351e+01\n",
      "   34\t+6.0050338190157368e+02\t8.56523850e+01\n",
      "   35\t+6.0030403887365128e+02\t8.54981103e+01\n",
      "   36\t+6.0004792711398363e+02\t8.32781885e+01\n",
      "   37\t+5.9992174129870455e+02\t8.33365038e+01\n",
      "   38\t+5.9974011233819454e+02\t8.15766117e+01\n",
      "   39\t+5.9966291736146547e+02\t8.18043975e+01\n",
      "   40\t+5.9953272575444669e+02\t8.04289551e+01\n",
      "   41\t+5.9948840319656711e+02\t8.07710163e+01\n",
      "   42\t+5.9939427415354203e+02\t7.97074818e+01\n",
      "   43\t+5.9937228824283306e+02\t8.01182195e+01\n",
      "   44\t+5.9930407458645232e+02\t7.93063272e+01\n",
      "   45\t+5.9929753888216601e+02\t7.97528513e+01\n",
      "   46\t+5.9924848361353497e+02\t7.91455705e+01\n",
      "   47\t+5.9853126916345741e+02\t7.96051604e+01\n",
      "   48\t+5.9448279346510208e+02\t7.01357852e+01\n",
      "   49\t+5.9168879594443933e+02\t9.32287287e+01\n",
      "   50\t+5.8904194921214923e+02\t8.51695129e+01\n",
      "   51\t+5.8838028424670756e+02\t8.05534458e+01\n",
      "   52\t+5.8822627403242859e+02\t7.77339855e+01\n",
      "   53\t+5.8799990569719887e+02\t7.59814650e+01\n",
      "   54\t+5.8772865873987257e+02\t7.70656843e+01\n",
      "   55\t+5.8753608654620302e+02\t7.29442712e+01\n",
      "   56\t+5.8739496794386321e+02\t7.34582579e+01\n",
      "   57\t+5.8728836671883494e+02\t7.11333452e+01\n",
      "   58\t+5.8720511244547174e+02\t7.17917507e+01\n",
      "   59\t+5.8699251871463264e+02\t7.04788848e+01\n",
      "   60\t+5.8670287299062886e+02\t7.56482839e+01\n",
      "   61\t+5.8651759775994992e+02\t7.25546757e+01\n",
      "   62\t+5.8638683722337032e+02\t7.23391950e+01\n",
      "   63\t+5.8629129023236351e+02\t7.04748187e+01\n",
      "   64\t+5.8627818032156847e+02\t7.07919785e+01\n",
      "   65\t+5.8610290307476521e+02\t7.24275857e+01\n",
      "   66\t+5.8596994240131926e+02\t7.25942584e+01\n",
      "   67\t+5.8586714346002884e+02\t7.04776056e+01\n",
      "   68\t+5.8578520357974128e+02\t7.08983796e+01\n",
      "   69\t+5.8571875618525860e+02\t6.96506284e+01\n",
      "   70\t+5.8566350842035411e+02\t7.00700225e+01\n",
      "   71\t+5.8485734545621597e+02\t6.93126570e+01\n",
      "   72\t+5.8411307798738858e+02\t8.30127730e+01\n",
      "   73\t+5.8202717355203538e+02\t8.26383413e+01\n",
      "   74\t+5.8185265787299807e+02\t7.83954487e+01\n",
      "   75\t+5.8145602775720306e+02\t7.35434116e+01\n",
      "   76\t+5.8123588762634415e+02\t7.93207943e+01\n",
      "   77\t+5.8109877271469645e+02\t7.10010130e+01\n",
      "   78\t+5.8073452582290065e+02\t7.89612602e+01\n",
      "   79\t+5.8062752212963642e+02\t7.01982271e+01\n",
      "   80\t+5.7933124653302957e+02\t8.79843825e+01\n",
      "   81\t+5.7803056905117728e+02\t8.41071145e+01\n",
      "   82\t+5.7787879037191908e+02\t7.53370341e+01\n",
      "   83\t+5.7664889135753197e+02\t8.03639826e+01\n",
      "   84\t+5.7640366361564327e+02\t6.63579933e+01\n",
      "   85\t+5.7616508180290043e+02\t7.14476245e+01\n",
      "   86\t+5.7596566557428332e+02\t6.52272297e+01\n",
      "   87\t+5.7540678218700543e+02\t8.04566928e+01\n",
      "   88\t+5.7528748822129785e+02\t6.99695179e+01\n",
      "   89\t+5.7513038054698734e+02\t6.92034440e+01\n",
      "   90\t+5.7511388525793222e+02\t6.76182554e+01\n",
      "   91\t+5.7508724747563269e+02\t6.86836994e+01\n",
      "   92\t+5.7508451864972596e+02\t6.78574952e+01\n",
      "   93\t+5.7507840815520149e+02\t6.82396809e+01\n",
      "   94\t+5.7507752526807485e+02\t6.79059624e+01\n",
      "   95\t+5.7507749667916187e+02\t6.80852664e+01\n",
      "   96\t+5.7507575424210813e+02\t6.78543590e+01\n",
      "   97\t+5.7507568955368936e+02\t6.80203687e+01\n",
      "   98\t+5.7507527882375530e+02\t6.79085685e+01\n",
      "   99\t+5.7507524254105681e+02\t6.79896697e+01\n",
      "  100\t+5.7507514250497309e+02\t6.79362915e+01\n",
      "  101\t+5.7507512615217752e+02\t6.79753455e+01\n",
      "  102\t+5.7507512378149784e+02\t6.79498473e+01\n",
      "  103\t+5.7507509396981038e+02\t6.79792032e+01\n",
      "  104\t+5.7507509178170176e+02\t6.79564074e+01\n",
      "  105\t+5.7507508444221105e+02\t6.79702958e+01\n",
      "  106\t+5.7507508330913549e+02\t6.79594789e+01\n",
      "  107\t+5.7507508315403777e+02\t6.79660689e+01\n",
      "  108\t+5.7507508091847785e+02\t6.79579364e+01\n",
      "  109\t+5.7507508074714804e+02\t6.79640886e+01\n",
      "  110\t+5.7507508019297404e+02\t6.79601358e+01\n",
      "  111\t+5.7507508010031461e+02\t6.79630881e+01\n",
      "  112\t+5.7507508008306229e+02\t6.79611974e+01\n",
      "  113\t+5.7507507991361877e+02\t6.79634011e+01\n",
      "  114\t+5.7507507989793316e+02\t6.79617016e+01\n",
      "  115\t+5.7507507985531390e+02\t6.79627465e+01\n",
      "  116\t+5.7507507984702238e+02\t6.79619373e+01\n",
      "  117\t+5.7507507984491804e+02\t6.79624331e+01\n",
      "  118\t+5.7507507983189475e+02\t6.79618236e+01\n",
      "  119\t+5.7507507983034384e+02\t6.79622853e+01\n",
      "  120\t+5.7507507983029654e+02\t6.79619891e+01\n",
      "  121\t+5.7507507982622406e+02\t6.79623360e+01\n",
      "  122\t+5.7507507982596860e+02\t6.79620689e+01\n",
      "  123\t+5.7507507982495690e+02\t6.79622338e+01\n",
      "  124\t+5.7507507982479876e+02\t6.79621066e+01\n",
      "  125\t+5.7507507982477091e+02\t6.79621849e+01\n",
      "  126\t+5.7507507982445634e+02\t6.79620891e+01\n",
      "  127\t+5.7507507982442644e+02\t6.79621618e+01\n",
      "  128\t+5.7507507982434640e+02\t6.79621153e+01\n",
      "  129\t+5.7507507982433015e+02\t6.79621502e+01\n",
      "  130\t+5.7507507982432548e+02\t6.79621279e+01\n",
      "  131\t+5.7507507982430116e+02\t6.79621540e+01\n",
      "  132\t+5.7507507982429718e+02\t6.79621339e+01\n",
      "  133\t+5.7507507982429149e+02\t6.79621463e+01\n",
      "  134\t+5.7507507982429115e+02\t6.79621367e+01\n",
      "  135\t+5.7507507982428751e+02\t6.79621449e+01\n",
      "  136\t+5.7507507982428729e+02\t6.79621370e+01\n",
      "  137\t+5.7507507982428706e+02\t6.79621419e+01\n",
      "  138\t+5.7507507982428581e+02\t6.79621360e+01\n",
      "  139\t+5.7507507982428535e+02\t6.79621405e+01\n",
      "  140\t+5.7507507982428513e+02\t6.79621387e+01\n",
      "  141\t+5.7507507982428501e+02\t6.79621388e+01\n",
      "  142\t+5.7507507982428501e+02\t6.79621388e+01\n",
      "  143\t+5.7507507982428501e+02\t6.79621388e+01\n",
      "  144\t+5.7507507982428501e+02\t6.79621388e+01\n",
      "Terminated - min stepsize reached after 144 iterations, 1.98 seconds.\n",
      "\n"
     ]
    }
   ],
   "source": [
    "solver = ObliqueSPCA(logverbosity = 2, maxiter = 10000)\n",
    "subspace, x, opt_log = solver.solve(problem=problem, lam=lam, x=x0)"
   ]
  },
  {
   "cell_type": "code",
   "execution_count": 27,
   "metadata": {},
   "outputs": [
    {
     "data": {
      "text/plain": [
       "[<matplotlib.lines.Line2D at 0x11dbb8460>]"
      ]
     },
     "execution_count": 27,
     "metadata": {},
     "output_type": "execute_result"
    },
    {
     "data": {
      "image/png": "[encoded data removed]",
      "text/plain": [
       "<Figure size 432x288 with 1 Axes>"
      ]
     },
     "metadata": {
      "needs_background": "light"
     },
     "output_type": "display_data"
    }
   ],
   "source": [
    "plt.semilogy(opt_log['iterations']['fx'])"
   ]
  },
  {
   "cell_type": "code",
   "execution_count": 28,
   "metadata": {},
   "outputs": [
    {
     "name": "stdout",
     "output_type": "stream",
     "text": [
      "naive:        0.8018954487197569\n",
      "oblique:      0.820414053144523\n",
      "groundtruth:  0.8180410900312547\n",
      "0.019905978670961\n"
     ]
    },
    {
     "data": {
      "image/png": "[encoded data removed]",
      "text/plain": [
       "<Figure size 432x288 with 2 Axes>"
      ]
     },
     "metadata": {
      "needs_background": "light"
     },
     "output_type": "display_data"
    }
   ],
   "source": [
    "print('naive:       ', 1 - problem.objective(x0) / (2*np.linalg.norm(A._matrix,'fro')**2))\n",
    "print('oblique:     ', 1 - problem.objective(x) / (2*np.linalg.norm(A._matrix,'fro')**2))\n",
    "print('groundtruth: ', 1 - problem.objective(q0) / (2*np.linalg.norm(A._matrix,'fro')**2))\n",
    "if r == 1:\n",
    "    print(np.linalg.norm( (q0.T @ x) * x - q0))\n",
    "else:\n",
    "    plt.imshow(np.abs(q0.T @ x))\n",
    "    plt.colorbar()\n",
    "    print(1-np.max(np.abs(q0.T @ x)))"
   ]
  },
  {
   "cell_type": "code",
   "execution_count": 29,
   "id": "191d9ff9",
   "metadata": {},
   "outputs": [],
   "source": [
    "from sklearn.decomposition import SparsePCA\n",
    "transformer = SparsePCA(n_components=r, random_state=0, alpha = 0.5)\n",
    "transformer.fit(A._matrix)\n",
    "x_scikit = transformer.components_.T"
   ]
  },
  {
   "cell_type": "code",
   "execution_count": 30,
   "id": "3061fb0d",
   "metadata": {},
   "outputs": [
    {
     "name": "stdout",
     "output_type": "stream",
     "text": [
      "scikit:       0.8151658936842473\n"
     ]
    },
    {
     "data": {
      "text/plain": [
       "400"
      ]
     },
     "execution_count": 30,
     "metadata": {},
     "output_type": "execute_result"
    },
    {
     "data": {
      "image/png": "[encoded data removed]",
      "text/plain": [
       "<Figure size 432x288 with 2 Axes>"
      ]
     },
     "metadata": {
      "needs_background": "light"
     },
     "output_type": "display_data"
    }
   ],
   "source": [
    "print('scikit:      ', 1 - problem.objective(x_scikit) / (2*np.linalg.norm(A._matrix,'fro')**2))\n",
    "plt.imshow(np.abs(x_scikit.T @ q0))\n",
    "plt.colorbar()\n",
    "np.count_nonzero(x_scikit)"
   ]
  },
  {
   "cell_type": "code",
   "execution_count": 34,
   "id": "577ea5e1",
   "metadata": {},
   "outputs": [
    {
     "data": {
      "text/plain": [
       "168"
      ]
     },
     "execution_count": 34,
     "metadata": {},
     "output_type": "execute_result"
    }
   ],
   "source": [
    "s"
   ]
  },
  {
   "cell_type": "code",
   "execution_count": null,
   "id": "1a6513cd",
   "metadata": {},
   "outputs": [],
   "source": []
  }
 ],
 "metadata": {
  "interpreter": {
   "hash": "437509238e05f23707272bb58d1490b7acc9984b8122062e2294ddf3bd1e54a4"
  },
  "kernelspec": {
   "display_name": "Python 3.9.7 64-bit ('base': conda)",
   "name": "python3"
  },
  "language_info": {
   "codemirror_mode": {
    "name": "ipython",
    "version": 3
   },
   "file_extension": ".py",
   "mimetype": "text/x-python",
   "name": "python",
   "nbconvert_exporter": "python",
   "pygments_lexer": "ipython3",
   "version": "3.9.7"
  }
 },
 "nbformat": 4,
 "nbformat_minor": 5
}
